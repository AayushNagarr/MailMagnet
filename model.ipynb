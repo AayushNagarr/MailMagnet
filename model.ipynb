{
 "cells": [
  {
   "cell_type": "code",
   "execution_count": 1,
   "metadata": {},
   "outputs": [
    {
     "name": "stderr",
     "output_type": "stream",
     "text": [
      "/opt/conda/envs/MailMagnet/lib/python3.10/site-packages/tqdm/auto.py:21: TqdmWarning: IProgress not found. Please update jupyter and ipywidgets. See https://ipywidgets.readthedocs.io/en/stable/user_install.html\n",
      "  from .autonotebook import tqdm as notebook_tqdm\n"
     ]
    }
   ],
   "source": [
    "from sentence_transformers import SentenceTransformer\n",
    "from sklearn.cluster import KMeans"
   ]
  },
  {
   "cell_type": "code",
   "execution_count": 2,
   "metadata": {},
   "outputs": [
    {
     "name": "stderr",
     "output_type": "stream",
     "text": [
      "Downloading (…)7e0d5/.gitattributes: 100%|██████████| 345/345 [00:00<00:00, 1.06MB/s]\n",
      "Downloading (…)_Pooling/config.json: 100%|██████████| 190/190 [00:00<00:00, 585kB/s]\n",
      "Downloading (…)0e5ca7e0d5/README.md: 100%|██████████| 4.01k/4.01k [00:00<00:00, 12.7MB/s]\n",
      "Downloading (…)5ca7e0d5/config.json: 100%|██████████| 555/555 [00:00<00:00, 697kB/s]\n",
      "Downloading (…)ce_transformers.json: 100%|██████████| 122/122 [00:00<00:00, 539kB/s]\n",
      "Downloading pytorch_model.bin: 100%|██████████| 265M/265M [00:28<00:00, 9.32MB/s] \n",
      "Downloading (…)nce_bert_config.json: 100%|██████████| 53.0/53.0 [00:00<00:00, 175kB/s]\n",
      "Downloading (…)cial_tokens_map.json: 100%|██████████| 112/112 [00:00<00:00, 616kB/s]\n",
      "Downloading (…)7e0d5/tokenizer.json: 100%|██████████| 466k/466k [00:00<00:00, 1.08MB/s]\n",
      "Downloading (…)okenizer_config.json: 100%|██████████| 505/505 [00:00<00:00, 1.66MB/s]\n",
      "Downloading (…)0e5ca7e0d5/vocab.txt: 100%|██████████| 232k/232k [00:00<00:00, 6.53MB/s]\n",
      "Downloading (…)ca7e0d5/modules.json: 100%|██████████| 229/229 [00:00<00:00, 877kB/s]\n"
     ]
    }
   ],
   "source": [
    "embedder = SentenceTransformer('distilbert-base-nli-stsb-mean-tokens')\n"
   ]
  },
  {
   "cell_type": "code",
   "execution_count": 10,
   "metadata": {},
   "outputs": [
    {
     "name": "stdout",
     "output_type": "stream",
     "text": [
      "780\n"
     ]
    }
   ],
   "source": [
    "file_path = './emails.csv'\n",
    "lines = []\n",
    "with open(file_path, 'r') as file:\n",
    "    for line in file:\n",
    "        if line.strip()!='\"\"':\n",
    "            lines.append(line.strip())\n",
    "lines=lines[1:]\n",
    "print(len(lines))"
   ]
  },
  {
   "cell_type": "code",
   "execution_count": 11,
   "metadata": {},
   "outputs": [],
   "source": [
    "corpus_embeddings = embedder.encode(lines)"
   ]
  },
  {
   "cell_type": "code",
   "execution_count": 12,
   "metadata": {},
   "outputs": [
    {
     "data": {
      "text/plain": [
       "array([ 0.3742358 ,  0.6603126 ,  1.011846  , -0.6359122 ,  0.03867283,\n",
       "       -0.31806946, -0.40174097,  0.24040048, -0.18633118, -0.6481902 ,\n",
       "       -1.0343719 ,  0.5838695 , -0.5173682 ,  0.7455741 , -0.09744006,\n",
       "       -0.1132613 ,  0.23552535, -0.21568912, -0.44674516,  0.27615187,\n",
       "        0.42270517,  0.27165195,  0.20525557,  0.7522546 ,  0.5988159 ,\n",
       "        0.10158321, -0.26938966, -0.14342147,  0.32806882,  0.14043286,\n",
       "        0.47230777, -0.85141873,  0.18225624, -0.42507017,  0.577053  ,\n",
       "        0.34278804, -0.39887428,  0.14166209, -0.14475569,  0.04782625,\n",
       "        0.03811084,  0.02097511,  0.36022055,  0.16338566,  0.631168  ,\n",
       "        0.5453745 ,  0.2309078 ,  0.07590188, -0.16690499,  0.38071626,\n",
       "       -0.47431862, -1.0495727 ,  0.42109853, -0.45213178,  0.5041123 ,\n",
       "       -0.83550256, -0.31152558,  0.5273751 ,  0.2586964 ,  0.07298038,\n",
       "       -0.38518643, -0.04367894,  0.09889518, -0.12163144,  0.5647417 ,\n",
       "       -0.71476865, -0.49230805, -0.2843002 ,  0.71283424, -0.5638043 ,\n",
       "        0.9408829 ,  0.01831242, -0.10760327, -0.6232626 , -0.0704678 ,\n",
       "       -0.26065442,  0.4168977 , -0.01028237,  0.9840567 ,  0.2975953 ,\n",
       "       -0.39113423, -0.821515  , -0.35798568, -0.00807058,  0.60630316,\n",
       "        0.3182675 ,  1.3535562 ,  0.1752505 , -1.0301878 ,  0.59794724,\n",
       "       -0.42528543, -0.49117568,  0.275231  ,  0.07984096,  0.3220811 ,\n",
       "       -0.4694606 , -0.11549072, -0.2889824 , -0.1413242 , -0.03782279,\n",
       "       -0.5220206 ,  0.3867582 , -0.20628811, -0.16832717, -0.20825788,\n",
       "       -0.41047686,  0.21438149,  0.18658915, -0.40486968,  0.4994435 ,\n",
       "        0.62536335, -0.1640129 , -0.06913766, -0.42698374, -0.11629782,\n",
       "       -1.0486137 , -0.17729008,  0.25605112,  0.04150549,  0.02723083,\n",
       "       -0.05420812,  1.2052563 ,  0.09397018, -0.16066253,  0.01292306,\n",
       "       -0.20594963, -0.5468983 ,  0.12847733, -0.02435245,  0.6591323 ,\n",
       "        0.40809202,  0.44099295, -0.656507  ,  0.05694978,  0.52524245,\n",
       "        0.19380505, -0.36847204,  0.26561028,  0.26573032, -0.11770543,\n",
       "       -0.62265706,  0.02334549,  0.8091683 ,  0.71408826,  0.13865125,\n",
       "       -0.376796  , -0.6769515 ,  0.3417387 , -0.30814144, -0.01690221,\n",
       "       -0.9790721 ,  0.04911096, -0.6686206 , -0.86126775, -0.09880175,\n",
       "        0.1039632 , -0.2268207 , -0.79432875, -0.5065851 ,  0.44146115,\n",
       "       -1.1443293 , -0.07051436,  0.73356247,  0.4863769 , -1.0016701 ,\n",
       "       -0.12878846,  0.61707693, -0.27865928, -0.2899146 , -0.54656327,\n",
       "        0.40319625,  0.3234109 , -0.3555631 , -0.11261688, -1.0961069 ,\n",
       "        0.30663967,  0.2328881 , -0.17862357, -0.30210927,  0.09015168,\n",
       "        0.32084003, -0.05114957, -0.9117017 ,  0.2510774 ,  0.20698023,\n",
       "        0.03774391,  0.61220676,  0.2712654 , -0.21869534, -0.4660349 ,\n",
       "       -0.40272686, -0.4691844 ,  0.04173519, -0.01725213, -0.2183435 ,\n",
       "        0.31595728,  0.10214375,  1.1273074 ,  0.04051358, -0.13815008,\n",
       "        0.08021905,  0.2575125 ,  0.15004677,  0.108006  ,  0.45276192,\n",
       "       -0.80339456,  0.3946637 ,  0.24796052, -0.6215613 , -0.34871915,\n",
       "       -0.29722267, -0.01621933, -0.3326973 ,  0.05769975,  0.08809348,\n",
       "        0.30739024,  0.46767476, -0.582564  , -0.2191376 , -0.36948416,\n",
       "        0.7064282 , -0.44550526,  0.8156586 , -0.07387178,  0.72197515,\n",
       "        0.0675974 , -0.0354284 , -0.46736288,  0.7860923 ,  0.06580231,\n",
       "       -0.4651125 ,  0.16243462, -0.39652643, -0.5680643 ,  0.6990384 ,\n",
       "       -0.5804825 ,  0.26511544, -0.09218059,  0.06378649, -0.509914  ,\n",
       "       -0.73366964, -0.8271327 ,  0.30908492, -0.57148355, -0.33972526,\n",
       "        0.9640937 ,  0.49864414, -0.71104306,  0.57186055, -0.06965738,\n",
       "       -0.65014184,  0.06760094, -0.05775496, -0.15949717,  0.5644816 ,\n",
       "        0.06722159, -0.4288598 , -0.5222966 , -0.31002423,  0.1559696 ,\n",
       "        0.6508088 , -0.57213473,  0.33492616, -0.46059686, -0.08849881,\n",
       "        0.45112467, -0.02142282, -0.13777336,  0.65839934, -0.5157149 ,\n",
       "       -0.03501887, -0.11699191, -0.14195667,  0.24242187,  0.58894604,\n",
       "        0.05507999,  0.2522052 , -0.0977545 ,  0.6958485 , -0.77121466,\n",
       "       -1.1191231 , -0.03127253, -0.4771653 ,  0.08557492,  0.47519764,\n",
       "        0.09390007, -0.18084857, -0.6072145 ,  0.16543755,  0.30547696,\n",
       "       -0.00640918, -0.04339512,  0.10013653,  0.6201    ,  0.9135026 ,\n",
       "       -0.74331474,  0.42058328, -0.41976947, -0.6864445 ,  0.23604128,\n",
       "       -0.8899239 ,  0.09016397, -0.36605245, -0.06929052,  0.2641192 ,\n",
       "       -0.2196947 ,  0.4811485 , -0.34235463, -0.6484107 , -0.14367619,\n",
       "        0.59191984, -0.12010019, -0.11656839,  0.3546765 , -0.18377861,\n",
       "        0.07657103,  0.7813451 , -0.25950706,  0.02445506, -0.3450084 ,\n",
       "        0.32793295, -0.0918273 ,  0.43398947, -0.11241234, -0.98219544,\n",
       "        0.4487247 ,  0.69991565, -0.4076603 , -0.6802646 , -0.14018673,\n",
       "        0.16315398, -0.3964172 ,  0.4508487 , -0.75867856, -0.5268519 ,\n",
       "        0.47056916,  0.3463727 ,  0.6136679 ,  0.19356024,  0.19914031,\n",
       "        0.09478873,  0.63546985,  0.27182153,  0.29153082, -0.3984376 ,\n",
       "       -0.7372699 , -0.541466  , -0.0853548 ,  0.3472475 , -0.26783022,\n",
       "       -0.23568906, -0.40367737, -0.24060364, -0.15047644, -0.03148087,\n",
       "       -0.3127376 ,  0.5938287 ,  0.23800413, -0.0839801 , -0.5763481 ,\n",
       "       -0.23946974,  0.5036206 ,  0.33655363, -0.44726303,  0.92731637,\n",
       "       -0.07497466, -0.6812807 ,  0.31316394, -0.1743875 ,  0.13349915,\n",
       "        0.19586638, -0.07470971, -0.3434105 ,  0.08173482, -0.5017868 ,\n",
       "        0.44493294, -0.78915167,  0.35830233, -0.06529398, -0.02798629,\n",
       "       -0.790702  , -0.359696  , -0.34160057,  0.45116287, -0.85973954,\n",
       "       -0.6327428 , -0.2929162 ,  0.24414387,  0.592767  , -0.44472265,\n",
       "        0.43053985, -0.41822773,  0.03787403, -0.224633  , -0.00981393,\n",
       "        0.08794291, -0.4592911 ,  0.7046685 , -0.52564394,  0.01885708,\n",
       "       -0.42587656, -0.11782768,  0.5298166 ,  0.21833146, -0.05561404,\n",
       "       -0.1864209 , -0.53338814, -0.26820275,  0.5255844 ,  0.24158321,\n",
       "        0.1276224 ,  0.28551748,  0.05081486,  0.4718691 , -0.9188154 ,\n",
       "        0.30022988, -0.34743267, -0.38641855, -0.59125996,  0.757876  ,\n",
       "       -0.54354054,  0.12591696,  0.253325  ,  0.10000861, -0.20483446,\n",
       "        0.31127065, -0.57151556, -0.40768132, -0.295776  ,  0.09706543,\n",
       "        0.3588161 ,  0.6448006 ,  0.39750037, -0.5802142 ,  0.6788348 ,\n",
       "        0.9235648 , -0.37157205,  0.45381212,  0.17881899,  0.06617512,\n",
       "        0.1513707 , -0.3752051 , -0.21519995, -0.5817244 , -0.5168248 ,\n",
       "        0.44134504, -0.31917578,  0.02392214,  0.49525076,  0.8765784 ,\n",
       "       -0.2837978 , -0.4138889 ,  0.23193356,  0.9322323 ,  0.17881677,\n",
       "       -0.19571434, -0.24538036, -0.6400624 , -0.43972445, -0.05729291,\n",
       "       -0.49766526,  0.18279451, -0.19336915, -0.7647218 ,  0.40610674,\n",
       "       -0.2395501 ,  0.8013441 ,  0.00851034, -0.39253533, -0.09521252,\n",
       "       -0.24426718,  0.24248932, -0.03280661, -0.66587925, -0.69480354,\n",
       "       -0.31331187,  0.3918055 , -0.6549686 ,  0.30028328, -0.56971645,\n",
       "       -0.05111516, -0.25931203,  0.15255113, -0.2583586 ,  0.55789214,\n",
       "       -0.5873663 , -0.28404593,  0.1494246 ,  0.03592369, -0.70503986,\n",
       "       -0.2297513 ,  0.38933596, -0.30127737,  0.33159423,  0.0516206 ,\n",
       "        0.5781874 ,  0.01932277,  0.48128793, -0.61485755,  0.31775513,\n",
       "        0.9211076 , -0.31439862,  0.34766528,  0.03409676,  0.49214995,\n",
       "        0.683589  , -0.08663565, -0.05952677, -0.1402104 ,  0.42848015,\n",
       "       -0.26947466, -0.25720274,  0.19496156, -0.13699302, -0.1907462 ,\n",
       "       -0.6445808 , -0.06609727,  0.22604616,  0.5292276 ,  0.24681872,\n",
       "       -0.3123173 ,  0.14689949,  0.03998333,  0.17686301,  0.2312622 ,\n",
       "        1.1016753 , -0.31264305, -0.09473106,  0.4795183 , -0.33851883,\n",
       "        0.9140201 , -0.7974239 , -0.3636097 , -0.24048838,  0.21229309,\n",
       "        0.24118584,  0.42728233, -0.21207944,  0.7939227 , -0.29884195,\n",
       "       -0.7283324 ,  0.6557996 ,  0.45267397, -0.5119114 ,  0.28887147,\n",
       "       -0.06411284,  0.46898112,  0.20264871, -0.37234208, -0.43058485,\n",
       "       -0.35637268,  0.28830692, -0.09286618,  0.00723324, -1.2358278 ,\n",
       "       -0.12320305,  0.25081903, -0.19856486,  0.40079403, -0.2950074 ,\n",
       "       -0.51709926, -0.4811414 , -0.3685987 ,  0.58423746, -0.19249941,\n",
       "       -0.4560578 , -0.51356184,  0.06194748, -0.14505553,  0.5053895 ,\n",
       "       -0.4116119 , -0.4030764 ,  0.32414997, -0.11839046, -0.25043267,\n",
       "       -0.59579915, -0.5866632 , -0.73925096, -0.1615809 ,  0.7165382 ,\n",
       "       -0.6944684 ,  0.19642805,  0.7319063 ,  0.49609324, -0.30094248,\n",
       "       -0.33361864,  0.7259814 , -0.14768103,  0.7006081 , -0.3221243 ,\n",
       "       -0.34493244,  0.02292554, -0.41081557, -0.23944879,  0.663822  ,\n",
       "       -0.9123499 ,  1.1246421 ,  0.8654663 ,  0.15010844,  0.5388913 ,\n",
       "        0.17328934, -0.5395772 , -0.11760651, -0.4410891 ,  0.02222562,\n",
       "       -0.17629068,  0.7589464 ,  0.11193737, -0.3895096 , -0.23854046,\n",
       "       -0.00824337, -0.30096874,  0.48078236,  0.17986521, -0.41617343,\n",
       "        0.22707868, -1.1170626 , -0.23737201,  0.02384373,  0.2116135 ,\n",
       "        0.14856136,  1.0140586 , -0.30666167,  0.20461208, -0.05413279,\n",
       "       -0.04283008, -0.5355981 , -0.4416197 ,  0.3298959 , -0.8534856 ,\n",
       "       -0.47174156,  0.1314535 , -0.13862349, -0.59285015, -0.5337136 ,\n",
       "       -0.24770945, -0.32190064,  0.26450366,  0.28362685, -0.18593022,\n",
       "        0.28755543, -0.6494381 ,  0.9447429 ,  0.9311268 ,  0.86680204,\n",
       "       -0.01478054, -0.5031625 , -0.33940607, -0.3525404 , -0.1319486 ,\n",
       "       -0.7709782 , -0.02311223,  0.42130464, -0.47528887, -0.6907789 ,\n",
       "        1.382586  ,  0.8382312 ,  0.01653304,  0.06222545, -0.9614534 ,\n",
       "       -0.31052226, -0.6636282 , -0.5559911 , -0.17104718,  0.61039335,\n",
       "        0.15847266,  0.08781694, -0.20353867,  0.00984345,  0.6008432 ,\n",
       "       -0.6908836 ,  1.022112  , -0.70175207, -0.3182593 , -0.16989532,\n",
       "        0.04837481,  0.52376187, -0.06991522,  0.04330445,  0.4450987 ,\n",
       "       -0.25973824, -0.32509735,  0.0113172 ,  0.08858441, -0.4015365 ,\n",
       "       -0.6020487 , -0.7777042 , -0.9612581 ,  1.3736732 , -0.6097288 ,\n",
       "        0.5894295 ,  0.4729907 ,  0.3157062 ,  0.0093433 ,  0.28684396,\n",
       "        0.40316954, -0.26315296,  0.731574  , -0.4630214 ,  1.0159236 ,\n",
       "       -0.57221013, -0.78815997, -0.18150802,  0.987993  , -0.5677804 ,\n",
       "        0.28290772,  0.88463414,  0.4416179 , -0.36846712,  0.51038814,\n",
       "        0.21714225, -0.83217984,  0.79335034, -0.2538052 , -0.04587091,\n",
       "       -0.39078805, -0.48681775,  0.20764107,  0.23539689, -0.09437182,\n",
       "       -0.19267601, -0.21509656,  0.32129323,  0.521955  ,  0.08649953,\n",
       "        0.26711205, -0.41308475,  0.26641867,  0.43767792, -0.47219083,\n",
       "       -0.23189525, -0.45484048,  0.648684  ,  0.50409544,  0.40041837,\n",
       "       -0.012078  , -0.51597315, -0.31219527,  1.1599708 ,  0.16788524,\n",
       "       -0.53866524,  0.55134696, -0.12286824, -0.7328855 , -0.08419615,\n",
       "        0.23379552,  0.0112006 ,  0.6404535 , -0.20311901,  0.7293441 ,\n",
       "        0.01288548,  0.04923014, -0.07202078, -0.97769916,  0.10012487,\n",
       "       -0.1852758 ,  0.09175502,  0.10222968, -1.2597151 ,  0.11712639,\n",
       "       -0.19142818,  0.4672198 ,  0.34068972,  0.05555173, -0.33710206,\n",
       "       -0.2823185 , -0.14805081,  0.27113745], dtype=float32)"
      ]
     },
     "execution_count": 12,
     "metadata": {},
     "output_type": "execute_result"
    }
   ],
   "source": [
    "corpus_embeddings[1]"
   ]
  },
  {
   "cell_type": "code",
   "execution_count": 14,
   "metadata": {},
   "outputs": [
    {
     "name": "stderr",
     "output_type": "stream",
     "text": [
      "/opt/conda/envs/MailMagnet/lib/python3.10/site-packages/sklearn/cluster/_kmeans.py:1416: FutureWarning: The default value of `n_init` will change from 10 to 'auto' in 1.4. Set the value of `n_init` explicitly to suppress the warning\n",
      "  super()._check_params_vs_input(X, default_n_init=10)\n"
     ]
    }
   ],
   "source": [
    "# Then, we perform k-means clustering using sklearn:\n",
    "from sklearn.cluster import KMeans\n",
    "\n",
    "num_clusters = 5\n",
    "clustering_model = KMeans(n_clusters=num_clusters)\n",
    "clustering_model.fit(corpus_embeddings)\n",
    "cluster_assignment = clustering_model.labels_"
   ]
  },
  {
   "cell_type": "code",
   "execution_count": 15,
   "metadata": {},
   "outputs": [
    {
     "data": {
      "text/plain": [
       "array([3, 1, 1, 4, 4, 4, 3, 3, 4, 1, 3, 3, 4, 4, 4, 4, 4, 3, 1, 2, 0, 3,\n",
       "       1, 4, 4, 3, 4, 3, 4, 1, 4, 2, 4, 0, 1, 1, 4, 3, 2, 4, 1, 1, 0, 1,\n",
       "       3, 3, 4, 4, 1, 2, 3, 1, 1, 1, 4, 4, 4, 4, 2, 1, 1, 3, 0, 1, 1, 4,\n",
       "       3, 3, 3, 3, 4, 1, 4, 4, 4, 4, 3, 1, 3, 1, 4, 4, 1, 4, 4, 3, 3, 4,\n",
       "       0, 1, 4, 4, 1, 3, 3, 4, 1, 2, 4, 4, 1, 4, 3, 4, 0, 1, 3, 4, 4, 4,\n",
       "       4, 3, 3, 2, 4, 2, 1, 4, 4, 2, 4, 2, 2, 2, 0, 1, 4, 1, 3, 4, 1, 2,\n",
       "       1, 4, 4, 3, 1, 4, 4, 4, 1, 3, 3, 0, 1, 3, 1, 2, 4, 4, 3, 1, 2, 4,\n",
       "       3, 0, 1, 4, 3, 3, 4, 4, 3, 3, 4, 3, 1, 0, 1, 3, 4, 3, 4, 4, 1, 3,\n",
       "       1, 1, 1, 1, 2, 3, 2, 1, 4, 3, 3, 3, 3, 0, 1, 4, 2, 3, 3, 1, 4, 4,\n",
       "       4, 4, 3, 1, 1, 2, 3, 2, 2, 4, 4, 1, 3, 4, 2, 3, 4, 0, 3, 1, 1, 1,\n",
       "       4, 3, 3, 3, 3, 1, 3, 1, 4, 1, 3, 3, 1, 4, 2, 1, 4, 3, 0, 3, 1, 1,\n",
       "       4, 4, 1, 3, 3, 3, 1, 1, 4, 2, 3, 3, 3, 4, 0, 1, 1, 3, 1, 3, 1, 4,\n",
       "       3, 4, 4, 2, 2, 4, 4, 4, 4, 3, 3, 4, 3, 1, 4, 2, 0, 4, 3, 3, 1, 1,\n",
       "       4, 3, 4, 1, 1, 1, 3, 1, 0, 4, 1, 4, 3, 1, 4, 1, 1, 4, 0, 3, 4, 4,\n",
       "       4, 3, 1, 1, 2, 4, 1, 0, 1, 3, 1, 4, 1, 1, 3, 2, 4, 4, 4, 1, 4, 4,\n",
       "       3, 1, 0, 1, 3, 4, 1, 4, 1, 3, 3, 1, 4, 3, 4, 4, 1, 3, 1, 0, 4, 3,\n",
       "       4, 4, 3, 1, 4, 3, 1, 4, 3, 1, 2, 4, 2, 0, 3, 1, 4, 4, 4, 1, 2, 3,\n",
       "       3, 4, 3, 3, 3, 1, 4, 3, 1, 1, 2, 4, 0, 1, 3, 1, 4, 3, 3, 4, 4, 3,\n",
       "       3, 2, 2, 0, 3, 4, 3, 3, 2, 1, 0, 4, 3, 4, 1, 4, 3, 3, 1, 1, 1, 1,\n",
       "       1, 2, 4, 2, 3, 3, 4, 2, 0, 4, 1, 3, 2, 1, 2, 2, 1, 4, 1, 3, 4, 2,\n",
       "       1, 4, 3, 3, 1, 4, 3, 4, 1, 3, 1, 4, 0, 4, 4, 2, 1, 4, 1, 3, 4, 4,\n",
       "       1, 4, 1, 4, 2, 0, 2, 4, 3, 4, 4, 4, 1, 4, 4, 1, 3, 1, 4, 3, 2, 2,\n",
       "       3, 4, 3, 0, 3, 3, 3, 3, 3, 4, 4, 1, 1, 4, 3, 1, 1, 4, 3, 1, 0, 3,\n",
       "       1, 3, 4, 3, 4, 1, 3, 0, 4, 3, 4, 3, 4, 2, 1, 3, 4, 3, 1, 0, 1, 1,\n",
       "       3, 3, 4, 2, 1, 1, 3, 1, 4, 0, 4, 3, 4, 4, 1, 4, 4, 4, 3, 4, 4, 3,\n",
       "       4, 4, 3, 1, 1, 4, 3, 3, 3, 3, 2, 4, 0, 4, 1, 1, 4, 2, 3, 1, 4, 1,\n",
       "       1, 4, 4, 1, 4, 4, 2, 4, 2, 4, 3, 4, 3, 0, 1, 3, 1, 1, 4, 4, 3, 1,\n",
       "       1, 1, 1, 4, 1, 4, 3, 3, 0, 4, 1, 3, 1, 1, 1, 1, 4, 3, 4, 2, 3, 3,\n",
       "       1, 4, 1, 1, 3, 3, 2, 3, 2, 0, 1, 3, 3, 1, 1, 4, 4, 4, 3, 0, 3, 4,\n",
       "       4, 1, 4, 4, 4, 4, 1, 4, 2, 4, 1, 2, 1, 0, 4, 2, 4, 4, 1, 3, 1, 3,\n",
       "       4, 1, 1, 3, 2, 3, 3, 1, 0, 4, 3, 1, 2, 2, 1, 4, 4, 4, 3, 1, 4, 1,\n",
       "       1, 1, 4, 4, 3, 4, 4, 0, 4, 4, 1, 1, 4, 4, 4, 3, 1, 4, 2, 1, 4, 1,\n",
       "       1, 4, 4, 3, 4, 4, 4, 4, 0, 4, 3, 4, 1, 3, 1, 1, 1, 4, 3, 3, 3, 4,\n",
       "       1, 1, 1, 2, 4, 3, 4, 1, 4, 4, 1, 2, 0, 3, 1, 3, 1, 1, 4, 4, 3, 3,\n",
       "       3, 4, 2, 4, 1, 1, 4, 2, 3, 3, 3, 4, 4, 3, 4, 3, 3, 2, 1, 1, 0, 3,\n",
       "       1, 4, 1, 2, 3, 4, 4, 3, 4, 4], dtype=int32)"
      ]
     },
     "execution_count": 15,
     "metadata": {},
     "output_type": "execute_result"
    }
   ],
   "source": [
    "cluster_assignment"
   ]
  },
  {
   "cell_type": "code",
   "execution_count": 18,
   "metadata": {},
   "outputs": [],
   "source": [
    "clustered_sentences = [[] for i in range(num_clusters)]\n",
    "for sentence_id, cluster_id in enumerate(cluster_assignment):\n",
    "    clustered_sentences[cluster_id].append(lines[sentence_id])\n",
    "\n"
   ]
  },
  {
   "cell_type": "code",
   "execution_count": 20,
   "metadata": {},
   "outputs": [
    {
     "name": "stdout",
     "output_type": "stream",
     "text": [
      "\"Stories for Aayushsenapati @aayushsenapati2002 (https://medium.com/@aayushsenapati2002?source=email-84e0100041f-1693607904643-digest.reader-------------------------5b41185a_addd_4abe_be58_e34d3e4e2390) ·Become a member (https://medium.com/plans?source=email-84e0100041f-1693607904643-digest.reader-------------------------5b41185a_addd_4abe_be58_e34d3e4e2390) Today's highlights Jeswanth Reddy (https://medium.com/@jeswanth.reddy_33847?source=email-84e0100041f-1693607904643-digest.reader-3faaba3c731e-95e453182f55----0-98------------------5b41185a_addd_4abe_be58_e34d3e4e2390-1) in Version 1 (https://medium.com/version-1?source=email-84e0100041f-1693607904643-digest.reader-3faaba3c731e-95e453182f55----0-98------------------5b41185a_addd_4abe_be58_e34d3e4e2390-1) ·2 min read Difference Between Promise and Async/Await If you're reading this, you probably understand how the promise and async/await are different in the… Ionut Anghel (https://medium.com/@ionut-anghel?source=email-84e0100041f-1693607904643-digest.reader--24b0c1d0088f----1-98------------------5b41185a_addd_4abe_be58_e34d3e4e2390-1) ·5 min read REST Endpoint Best Practices Every Developer Should Know As a software developer, you likely encounter RESTful APIs frequently. REST (Representational State… Hima Krovvidi (https://medium.com/@himabindu790?source=email-84e0100041f-1693607904643-digest.reader--8f2b94059934----2-98------------------5b41185a_addd_4abe_be58_e34d3e4e2390-1) ·9 min read Trees and Graphs Cheat Sheet for SDE/SWE Interviews Basically, Trees are a type of graph. Abhinavcv (https://medium.com/@abhinavcv007?source=email-84e0100041f-1693607904643-digest.reader--a0171252cee----3-98------------------5b41185a_addd_4abe_be58_e34d3e4e2390-1) ·5 min read How to get clients while being a freelance web developer? Everybody wants to make money, right? There are many web developers out there who have a lot of experience in… Naji0329 (https://medium.com/@naji0329?source=email-84e0100041f-1693607904643-digest.reader--ac6d9bbd775e----4-98------------------5b41185a_addd_4abe_be58_e34d3e4e2390-1) ·3 min read 16 Libraries You Should Know as a React Developer Being a modern React developer is not about knowing just React itself. To stay competitive, it is highly… Collie (https://medium.com/@colliethecocky?source=email-84e0100041f-1693607904643-digest.reader--a6f59de0de9d----5-98------------------5b41185a_addd_4abe_be58_e34d3e4e2390-1) ·4 min read Lessons from Three Months of Onboarding as a Junior Frontend Engineer Lessons from three months of onboarding as a junior frontend engineer Here is a summary of what I did and… Gajanan Rajput (https://medium.com/@rajputgajanan50?source=email-84e0100041f-1693607904643-digest.reader--90532f6ccd8a----6-98------------------5b41185a_addd_4abe_be58_e34d3e4e2390-1) ·3 min read The Walrus Operator (:=) in Python In this post we'll have a look at Python's walrus operator (:=), which can be used to assign and return a… Abhishek Malaviya (https://medium.com/@mabhishekit?source=email-84e0100041f-1693607904643-digest.reader--4ef166c1f760----7-98------------------5b41185a_addd_4abe_be58_e34d3e4e2390-1) ·4 min read C# Object oriented programming Composition vs Inheritance Let's dive into the two key players in object-oriented programming: Inheritance and Composition. In our daily… Md Sabit Islam Bhuiya (https://medium.com/@sib.sustswe?source=email-84e0100041f-1693607904643-digest.reader--11f117bbee2e----8-98------------------5b41185a_addd_4abe_be58_e34d3e4e2390-1) ·3 min read Routing in express.js in a modern way Express.js is the most popular framework to write APIs in node. This is a minimalist and flexible framework… Waleed Mousa (https://medium.com/@waleedmousa975?source=email-84e0100041f-1693607904643-digest.reader-78d064101951-33843e7160f7----9-98------------------5b41185a_addd_4abe_be58_e34d3e4e2390-1) in Artificial Intelligence in Plain English (https://medium.com/ai-in-plain-english?source=email-84e0100041f-1693607904643-digest.reader-78d064101951-33843e7160f7----9-98------------------5b41185a_addd_4abe_be58_e34d3e4e2390-1) ·5 min read Create a Challenging Racing Game using Machine Learning and JavaScript In this tutorial, we will create a racing game that adjusts its difficulty level based on the player's… Charles Chen (https://medium.com/@chrlschn?source=email-84e0100041f-1693607904643-digest.reader--6af2f4b04e5e----10-102------------------5b41185a_addd_4abe_be58_e34d3e4e2390-1) ·11 min read React is the New IBM You'll never get fired for picking it, but it's going to be expensive, bloated, difficult to get right, and… Ali Pouryousefi (https://medium.com/@a.pouryousefi98?source=email-84e0100041f-1693607904643-digest.reader-d1baaa8417a4-2540ae34ef99----11-98------------------5b41185a_addd_4abe_be58_e34d3e4e2390-1) in Stackademic (https://medium.com/stackademic?source=email-84e0100041f-1693607904643-digest.reader-d1baaa8417a4-2540ae34ef99----11-98------------------5b41185a_addd_4abe_be58_e34d3e4e2390-1) ·3 min read Event Propagation in JavaScript: Bubbling and Capturing JavaScript's event propagation is a concept that Oversees how events are handled when multiple elements are… Anil Kumar (https://medium.com/@kumaranil3921?source=email-84e0100041f-1693607904643-digest.reader--d43e56bc4215----12-98------------------5b41185a_addd_4abe_be58_e34d3e4e2390-1) ·7 min read How to Optimize Node.js App with API Caching Caching in a Node.js application using the Redis database Nikos Kafritsas (https://medium.com/@nikoskafritsas?source=email-84e0100041f-1693607904643-digest.reader-7f60cf5620c9-df044499877----13-59------------------5b41185a_addd_4abe_be58_e34d3e4e2390-1) in Towards Data Science (https://medium.com/towards-data-science?source=email-84e0100041f-1693607904643-digest.reader-7f60cf5620c9-df044499877----13-59------------------5b41185a_addd_4abe_be58_e34d3e4e2390-1) ·10 min read Whisper: Transcribe & Translate Audio Files With Human-Level Performance An AI model compatible with 97 languages - and how to use it Asiri Hewage (https://medium.com/@asiriofficial?source=email-84e0100041f-1693607904643-digest.reader--2805315dd6ca----14-98------------------5b41185a_addd_4abe_be58_e34d3e4e2390-1) ·4 min read My interview experience at Agoda. Hello and a big thank you for reading my article. Please be aware that I don't want to waste your time by… See more of what you like and less of what you don't. Control your recommendations (https://medium.com/me/missioncontrol?source=email-84e0100041f-1693607904643-digest.reader-------------------------5b41185a_addd_4abe_be58_e34d3e4e2390) Read from anywhere. Sent by Medium (https://medium.com/?source=email-84e0100041f-1693607904643-digest.reader-------------------------5b41185a_addd_4abe_be58_e34d3e4e2390) ·Medium, 548 Market St, PMB 42061, San Francisco, CA 94104 Unsubscribe (https://medium.com/me/email-settings/84e0100041f/aec9d9c50fec?type=social&source=email-84e0100041f-1693607904643-digest.reader-------------------------5b41185a_addd_4abe_be58_e34d3e4e2390) from this type of email·Switch to the Weekly Digest (https://medium.com/me/email-settings/84e0100041f/aec9d9c50fec?type=social&preference=2&source=email-84e0100041f-1693607904643-digest.reader-------------------------5b41185a_addd_4abe_be58_e34d3e4e2390) ·Careers (https://medium.com/jobs-at-medium/work-at-medium-959d1a85284e?source=email-84e0100041f-1693607904643-digest.reader-------------------------5b41185a_addd_4abe_be58_e34d3e4e2390) ·Help Center (https://help.medium.com/hc/en-us?source=email-84e0100041f-1693607904643-digest.reader-------------------------5b41185a_addd_4abe_be58_e34d3e4e2390) ·Privacy Policy (https://policy.medium.com/medium-privacy-policy-f03bf92035c9?source=email-84e0100041f-1693607904643-digest.reader-------------------------5b41185a_addd_4abe_be58_e34d3e4e2390) ·Terms of service (https://policy.medium.com/medium-terms-of-service-9db0094a1e0f?source=email-84e0100041f-1693607904643-digest.reader-------------------------5b41185a_addd_4abe_be58_e34d3e4e2390)\"\n"
     ]
    }
   ],
   "source": [
    "print(clustered_sentences[0][0])"
   ]
  },
  {
   "cell_type": "code",
   "execution_count": 26,
   "metadata": {},
   "outputs": [
    {
     "name": "stdout",
     "output_type": "stream",
     "text": [
      "Cluster 1 - Labels: reader, source, medium, digest, 84e0100041f\n",
      "Cluster 2 - Labels: eml, 3d, com, https, null\n",
      "Cluster 3 - Labels: jobid, message_id, recipient_id, ieee_mgaim, 5069072592\n",
      "Cluster 4 - Labels: you, of, and, to, the\n",
      "Cluster 5 - Labels: in, of, and, to, the\n"
     ]
    }
   ],
   "source": [
    "from sklearn.feature_extraction.text import TfidfVectorizer\n",
    "\n",
    "# Convert the clustered sentences into separate documents for TF-IDF analysis\n",
    "clustered_documents = [' '.join(cluster) for cluster in clustered_sentences]\n",
    "\n",
    "# Create a TF-IDF vectorizer\n",
    "tfidf_vectorizer = TfidfVectorizer()\n",
    "\n",
    "# Fit and transform the clustered documents\n",
    "tfidf_matrix = tfidf_vectorizer.fit_transform(clustered_documents)\n",
    "\n",
    "# Get the feature names (words) from the TF-IDF vectorizer\n",
    "feature_names = tfidf_vectorizer.get_feature_names_out()\n",
    "\n",
    "# For each cluster, find the top N keywords\n",
    "num_keywords = 5  # You can adjust this value as needed\n",
    "cluster_labels = []\n",
    "\n",
    "for i, cluster_matrix in enumerate(tfidf_matrix):\n",
    "    feature_index = cluster_matrix.toarray().argsort()[:, -num_keywords:][0]\n",
    "    cluster_keywords = [feature_names[idx] for idx in feature_index]\n",
    "    cluster_labels.append(cluster_keywords)\n",
    "\n",
    "# Print the cluster labels\n",
    "for i, labels in enumerate(cluster_labels):\n",
    "    print(f\"Cluster {i + 1} - Labels: {', '.join(labels)}\")\n"
   ]
  }
 ],
 "metadata": {
  "kernelspec": {
   "display_name": "MailMagnet",
   "language": "python",
   "name": "python3"
  },
  "language_info": {
   "codemirror_mode": {
    "name": "ipython",
    "version": 3
   },
   "file_extension": ".py",
   "mimetype": "text/x-python",
   "name": "python",
   "nbconvert_exporter": "python",
   "pygments_lexer": "ipython3",
   "version": "3.10.13"
  }
 },
 "nbformat": 4,
 "nbformat_minor": 2
}
