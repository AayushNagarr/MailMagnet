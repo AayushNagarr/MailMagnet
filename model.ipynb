{
 "cells": [
  {
   "cell_type": "code",
   "execution_count": 5,
   "metadata": {},
   "outputs": [
    {
     "name": "stdout",
     "output_type": "stream",
     "text": [
      "\"Hello Innovator, What if we told you that you could work with your dream company straight out of college? Yes! You heard it right! Participate in the Accenture Innovation Challenge to win big and you may also get an opportunity to fast-track your recruitment process journey with Accenture. Application Link: https://unstop.com/o/l58dzh1/?ref=h1FyMTt0 Roles Offered: Associate Software Engineer System and Application Services Associate Rewards: ❖ Prizes worth INR 1,00,000 per team member❖ Fast-Track Interview Opportunity Eligibility: Undergraduate and Postgraduate students Participate in the most sought-after challenge, and let your ideas make waves. Note that the fast-track recruitment process will be offered to all the eligible (as per our recruitment process criteria) participants who would submit their innovative ideas. Eligible participants will receive communications about the recruitment process from Accenture. Best Regards,Team Unstop Unsubscribe here\"\n"
     ]
    }
   ],
   "source": [
    "file_path = './emails.csv'\n",
    "lines = []\n",
    "with open(file_path, 'r') as file:\n",
    "    for line in file:\n",
    "        lines.append(line.strip())\n",
    "print(lines[1])"
   ]
  }
 ],
 "metadata": {
  "kernelspec": {
   "display_name": "MailMagnet",
   "language": "python",
   "name": "python3"
  },
  "language_info": {
   "codemirror_mode": {
    "name": "ipython",
    "version": 3
   },
   "file_extension": ".py",
   "mimetype": "text/x-python",
   "name": "python",
   "nbconvert_exporter": "python",
   "pygments_lexer": "ipython3",
   "version": "3.10.13"
  }
 },
 "nbformat": 4,
 "nbformat_minor": 2
}
