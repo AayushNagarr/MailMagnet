{
 "cells": [
  {
   "cell_type": "code",
   "execution_count": 17,
   "metadata": {},
   "outputs": [],
   "source": [
    "from sentence_transformers import SentenceTransformer\n",
    "from sklearn.cluster import KMeans\n",
    "import re\n",
    "import nltk"
   ]
  },
  {
   "cell_type": "code",
   "execution_count": 18,
   "metadata": {},
   "outputs": [],
   "source": [
    "embedder = SentenceTransformer('distilbert-base-nli-stsb-mean-tokens')\n"
   ]
  },
  {
   "cell_type": "code",
   "execution_count": 19,
   "metadata": {},
   "outputs": [],
   "source": [
    "#Emoji Removal\n",
    "\n",
    "def deEmojify(x):\n",
    "    regrex_pattern = re.compile(pattern = \"[\"\n",
    "        u\"\\U0001F600-\\U0001F64F\"  # emoticons\n",
    "        u\"\\U0001F300-\\U0001F5FF\"  # symbols & pictographs\n",
    "        u\"\\U0001F680-\\U0001F6FF\"  # transport & map symbols\n",
    "        u\"\\U0001F1E0-\\U0001F1FF\"  # flags (iOS)\n",
    "                           \"]+\", flags = re.UNICODE)\n",
    "    return regrex_pattern.sub(r'', x)"
   ]
  },
  {
   "cell_type": "code",
   "execution_count": 20,
   "metadata": {},
   "outputs": [],
   "source": [
    "#Cleaning basic Characters\n",
    "\n",
    "def clean(raw):\n",
    "    \"\"\" Remove hyperlinks and markup \"\"\"\n",
    "    result = re.sub(\"<[a][^>]*>(.+?)</[a]>\", 'Link.', raw)\n",
    "    result = re.sub('&gt;', \"\", result)\n",
    "    result = re.sub('&#x27;', \"'\", result)\n",
    "    result = re.sub('&quot;', '\"', result)\n",
    "    result = re.sub('&#x2F;', ' ', result)\n",
    "    result = re.sub('<p>', ' ', result)\n",
    "    result = re.sub('</i>', '', result)\n",
    "    result = re.sub('&#62;', '', result)\n",
    "    result = re.sub('<i>', ' ', result)\n",
    "    result = re.sub(\"\\n\", '', result)\n",
    "    return result"
   ]
  },
  {
   "cell_type": "code",
   "execution_count": 21,
   "metadata": {},
   "outputs": [],
   "source": [
    "def remove_num(texts):\n",
    "    output = re.sub(r'\\d+', '', texts )\n",
    "    return output"
   ]
  },
  {
   "cell_type": "code",
   "execution_count": 22,
   "metadata": {},
   "outputs": [],
   "source": [
    "def unify_whitespaces(text):\n",
    "    cleaned_string = re.sub(' +', ' ', text )\n",
    "    return cleaned_string"
   ]
  },
  {
   "cell_type": "code",
   "execution_count": 23,
   "metadata": {},
   "outputs": [],
   "source": [
    "def remove_punctuation(text):\n",
    "    result = \"\".join(u for u in text if u not in (\"?\", \".\", \";\", \":\",  \"!\",'\"',',') )\n",
    "    return result"
   ]
  },
  {
   "cell_type": "code",
   "execution_count": 24,
   "metadata": {},
   "outputs": [
    {
     "name": "stderr",
     "output_type": "stream",
     "text": [
      "[nltk_data] Downloading package stopwords to /root/nltk_data...\n",
      "[nltk_data]   Package stopwords is already up-to-date!\n"
     ]
    }
   ],
   "source": [
    "from nltk.corpus import stopwords\n",
    "from nltk import WordNetLemmatizer\n",
    "nltk.download('stopwords')\n",
    "from nltk.stem import PorterStemmer\n",
    "\n",
    "stop = set(stopwords.words('english'))\n",
    "#add unsubscribe to stop\n",
    "stop.add('unsubscribe')\n",
    "stemmer = PorterStemmer()\n",
    "lemma = WordNetLemmatizer()\n",
    "\n",
    "def remove_stopwords(text):\n",
    "    text = [word.lower() for word in text.split() if word.lower() not in stop ]\n",
    "    return ' '.join(text)"
   ]
  },
  {
   "cell_type": "code",
   "execution_count": 25,
   "metadata": {},
   "outputs": [
    {
     "name": "stdout",
     "output_type": "stream",
     "text": [
      "780\n",
      "dear innovator congratulations delighted inform cohort idea successfully reserved place prototyping stage click see result achievement fills us great satisfaction wholeheartedly celebrate progress firmly believe innovative idea potential bring meaningful change society committed supporting journey next step exciting process curated series captivating opportunities designed ensure smooth productive start prototyping phase cordially invite orientation session provide comprehensive insights prototyping stage well overview forthcoming events mentoring programs resources intended guide towards structuring advancing initiative session details date september time pm pm platform webex confirm attendance orientation session kindly click button register registration link following orientation session keep informed additional activities aimed enhancing experience prototyping stage including oneonone mentorship access resources prototype development engaging events encourage bring questions ideas orientation session make interactive informative possible additionally invite join whatsapp group connect team fellow participants congratulations new journey together lets collaborate make cohort outstanding success best regards team thingqbator thingqbator safdarjung enclave new delhi new delhi preferences\n"
     ]
    }
   ],
   "source": [
    "file_path = './emails.csv'\n",
    "lines = []\n",
    "with open(file_path, 'r') as file:\n",
    "    for line in file:\n",
    "        if line.strip()!='\"\"':\n",
    "            line=re.sub(r'http\\S+', '', line.strip())\n",
    "            line = re.sub(r'[!\"#$%&\\'()*+,-./:;?@[\\\\\\]^_{|}~`]', '', line)\n",
    "            line=deEmojify(line)\n",
    "            line=clean(line)\n",
    "            line=remove_num(line)\n",
    "            line=unify_whitespaces(line)\n",
    "            line=remove_punctuation(line)\n",
    "            line=remove_stopwords(line)\n",
    "            lines.append(line)\n",
    "lines=lines[1:]\n",
    "print(len(lines))\n",
    "print(lines[1])"
   ]
  },
  {
   "cell_type": "code",
   "execution_count": 26,
   "metadata": {},
   "outputs": [],
   "source": [
    "corpus_embeddings = embedder.encode(lines)"
   ]
  },
  {
   "cell_type": "code",
   "execution_count": 27,
   "metadata": {},
   "outputs": [
    {
     "data": {
      "text/plain": [
       "array([ 2.66916364e-01,  9.02335823e-01,  5.80179811e-01, -8.75559211e-01,\n",
       "        1.10951275e-01, -3.26939300e-02, -3.92728150e-01, -1.14493787e-01,\n",
       "        1.80045590e-01, -7.06154466e-01, -2.27512732e-01,  6.00761354e-01,\n",
       "        2.77830124e-01,  3.91607314e-01,  4.30928946e-01, -5.60367107e-01,\n",
       "        7.00924814e-01, -1.11849681e-01, -4.74754483e-01, -1.38676725e-03,\n",
       "        5.54225087e-01,  2.42525309e-01, -2.79286414e-01, -1.36285037e-01,\n",
       "        2.58695066e-01, -1.28557354e-01, -5.45186363e-03,  4.45697248e-01,\n",
       "        7.07761884e-01,  5.33519745e-01,  3.38084638e-01, -2.18392774e-01,\n",
       "       -1.51028648e-01, -5.36715649e-02,  3.19276601e-02,  6.05338395e-01,\n",
       "       -6.91890955e-01, -1.74998119e-01, -6.46432400e-01, -1.17689796e-01,\n",
       "       -1.24816500e-01, -2.24449947e-01,  8.42071414e-01, -1.33400798e-01,\n",
       "       -1.63862631e-01,  4.60637897e-01, -6.32843852e-01,  2.65991747e-01,\n",
       "       -7.38031507e-01,  3.89719754e-01, -2.80431747e-01, -1.04986858e+00,\n",
       "       -8.12514663e-01, -5.24784088e-01,  3.06330383e-01, -6.62942588e-01,\n",
       "       -1.17845929e+00,  8.71675909e-01,  1.03951228e+00, -6.14027262e-01,\n",
       "       -8.38177562e-01, -5.78219831e-01, -2.89469343e-02, -6.94024935e-02,\n",
       "        9.02798474e-01, -3.63742292e-01, -2.16813475e-01, -3.80372077e-01,\n",
       "        1.04367447e+00, -4.86198753e-01,  4.39390302e-01,  1.30172744e-01,\n",
       "        2.08574295e-01, -9.97429371e-01, -5.65943599e-01, -7.37989843e-01,\n",
       "        3.34932566e-01, -2.70732462e-01, -4.64996070e-01,  3.33467990e-01,\n",
       "       -8.15895498e-01, -8.09502423e-01,  7.49053955e-02, -8.88549387e-02,\n",
       "        5.15510142e-01,  8.04806411e-01,  1.18470788e+00,  2.19425425e-01,\n",
       "       -2.68065423e-01,  4.13613260e-01, -4.92803454e-02, -1.44700140e-01,\n",
       "        1.22997358e-01,  3.81677806e-01,  1.45631418e-01, -3.85011971e-01,\n",
       "       -6.69438004e-01, -7.73115456e-02,  2.28328183e-01,  5.83522618e-01,\n",
       "        4.27131429e-02,  1.18169725e+00, -1.70049191e-01, -6.24130726e-01,\n",
       "       -4.66491222e-01,  2.48644382e-01,  9.01065111e-01, -5.73179185e-01,\n",
       "       -2.65952796e-01, -3.28533620e-01,  9.35126916e-02, -5.16548343e-02,\n",
       "       -5.52337766e-01,  8.16874802e-01, -7.92059124e-01, -3.81168216e-01,\n",
       "       -6.64195865e-02,  4.25847620e-01, -8.05464327e-01, -2.39884257e-02,\n",
       "       -5.21331906e-01,  7.19809413e-01,  2.10377157e-01, -3.66102606e-02,\n",
       "       -3.99404988e-02, -1.18920803e-01, -8.17795694e-01, -2.43136749e-01,\n",
       "        7.86015272e-01, -1.04024028e-02, -4.55276519e-01,  6.66935220e-02,\n",
       "       -5.03192723e-01,  2.29047447e-01,  8.37936997e-01, -2.94267893e-01,\n",
       "       -5.62378585e-01,  6.90622568e-01, -3.03744208e-02,  2.66134679e-01,\n",
       "       -8.04911852e-01,  4.40273061e-03,  1.25825202e+00,  4.31895554e-02,\n",
       "       -1.24910939e-02,  3.11727911e-01, -5.68065584e-01,  2.75556207e-01,\n",
       "       -7.22469866e-01,  1.54997990e-01, -2.03214347e-01, -1.70829713e-01,\n",
       "       -5.27055025e-01, -1.59110636e-01, -4.44926858e-01,  5.75627461e-02,\n",
       "       -1.47508311e+00, -4.72340398e-02, -9.15931821e-01, -4.86118048e-01,\n",
       "       -1.31815541e+00, -2.71459699e-01,  5.30802488e-01,  4.38975126e-01,\n",
       "       -1.06591868e+00,  4.60271835e-01,  9.40704167e-01, -7.64968753e-01,\n",
       "       -1.05707452e-01, -4.31200445e-01, -5.02079576e-02,  1.03382564e+00,\n",
       "       -6.10748470e-01,  6.05498791e-01, -9.04063210e-02,  9.31204017e-03,\n",
       "       -6.02573037e-01, -5.13608038e-01, -6.96297586e-01,  2.83256099e-02,\n",
       "        6.59808755e-01, -6.92963004e-01, -9.74507213e-01, -4.55850840e-01,\n",
       "       -1.48900181e-01, -3.48255217e-01,  3.03105284e-02, -4.71071631e-01,\n",
       "       -7.07380235e-01,  2.96650618e-01,  4.43603009e-01, -3.19317803e-02,\n",
       "        1.53133959e-01, -1.73941463e-01,  7.36213401e-02, -1.33752525e-01,\n",
       "       -1.43406950e-02,  7.41808593e-01,  2.69024253e-01, -8.15687925e-02,\n",
       "       -7.95131028e-02,  6.54305935e-01, -4.70552027e-01,  3.48944068e-01,\n",
       "        3.31431270e-01, -8.67153227e-01,  1.16265357e-01,  5.21908104e-01,\n",
       "       -3.10656071e-01, -6.81115091e-01, -6.67873919e-01,  1.51844889e-01,\n",
       "       -1.30733937e-01,  1.06940389e-01, -3.36050898e-01,  8.51266325e-01,\n",
       "       -1.03179380e-01,  2.61528552e-01, -6.94106221e-01, -1.32504888e-02,\n",
       "       -1.41145766e-01,  2.20744342e-01,  1.21577692e+00,  2.34690476e-02,\n",
       "        5.78193605e-01, -7.29238629e-01, -1.34101197e-01,  5.21045178e-02,\n",
       "        3.98672894e-02, -3.94911110e-01,  1.45229757e-01,  2.04736128e-01,\n",
       "        3.69894318e-02,  2.72598304e-02,  2.04407007e-01, -4.83094752e-01,\n",
       "        6.11335874e-01, -3.93181056e-01,  5.41330874e-01, -1.05992627e+00,\n",
       "       -4.48898613e-01, -7.27499366e-01, -3.53551283e-02, -6.28763080e-01,\n",
       "        4.35782552e-01,  1.16874981e+00, -5.14308453e-01, -2.72568941e-01,\n",
       "        1.06677413e+00, -4.97177362e-01, -1.18940377e+00, -2.99836934e-01,\n",
       "        4.11237597e-01, -2.94748604e-01,  5.15519753e-02, -8.41550231e-01,\n",
       "        6.29061088e-02, -1.31248200e+00, -6.69803619e-01,  6.64433420e-01,\n",
       "        6.78817391e-01,  3.83019540e-03,  2.31318459e-01, -4.24179047e-01,\n",
       "       -9.57956612e-02, -1.85459219e-02, -1.82011709e-01, -4.68914986e-01,\n",
       "        3.54556680e-01, -2.25936353e-01, -5.60670733e-01, -5.73241040e-02,\n",
       "        1.52761698e-01, -1.68842170e-02,  6.45303309e-01,  1.67208493e-01,\n",
       "       -7.68533528e-01, -4.15191323e-01,  7.67041266e-01, -4.30402398e-01,\n",
       "       -1.18434989e+00, -1.32038891e-01, -5.80354929e-01,  3.54863495e-01,\n",
       "        3.88880819e-02, -4.54371423e-01, -8.74927044e-02, -5.72872996e-01,\n",
       "       -5.07944584e-01, -2.92979985e-01, -1.86027378e-01, -2.51306415e-01,\n",
       "        5.08213937e-02,  3.89197111e-01,  7.87399113e-01, -3.95738542e-01,\n",
       "        8.13163280e-01, -2.08399072e-01, -1.07496917e+00,  1.55090973e-01,\n",
       "       -7.19063044e-01,  7.73642540e-01,  3.14732462e-01,  6.24984242e-02,\n",
       "        7.86004841e-01, -5.65975867e-02,  2.71486938e-01, -4.09123600e-01,\n",
       "       -1.02246022e+00, -1.46161035e-01,  5.20480812e-01, -1.18915476e-02,\n",
       "       -5.57350218e-01,  3.65747869e-01,  3.97119910e-01, -9.38168615e-02,\n",
       "        1.01090622e+00, -4.73388642e-01, -8.87255073e-02, -5.24562001e-01,\n",
       "        3.29614699e-01,  5.14342301e-02,  1.75995141e-01,  2.33627185e-02,\n",
       "       -6.15685582e-01,  1.28285706e-01,  4.58722591e-01,  1.42053202e-01,\n",
       "       -7.95300424e-01, -1.04778029e-01, -3.47704925e-02, -2.01901346e-01,\n",
       "        2.10312530e-01, -1.09700239e+00, -3.13454092e-01, -5.76733239e-02,\n",
       "        1.89194798e-01,  2.65192360e-01,  8.59452844e-01,  3.80171537e-01,\n",
       "        6.60658926e-02, -1.81057230e-02,  5.32651901e-01,  3.44509363e-01,\n",
       "        6.67859316e-02, -6.46649003e-01, -8.31738651e-01, -6.11916184e-01,\n",
       "       -6.51901066e-01, -3.44472975e-01, -2.43637621e-01, -5.13761520e-01,\n",
       "       -1.27846867e-01,  1.29747745e-02,  6.66717291e-02, -3.27293336e-01,\n",
       "        4.81248379e-01,  1.93600152e-02, -2.42565989e-01, -2.09531888e-01,\n",
       "       -1.27071813e-01,  3.92916143e-01,  2.12884054e-01, -1.58262253e-01,\n",
       "        1.57789731e+00, -7.69805759e-02, -1.08124030e+00,  6.51565716e-02,\n",
       "       -2.23139767e-02,  2.97752261e-01, -2.03303695e-01,  3.53069529e-02,\n",
       "        4.13169086e-01,  6.46915793e-01, -4.54848915e-01,  4.90521163e-01,\n",
       "       -4.66817588e-01,  2.35949144e-01,  4.20590878e-01,  1.10040791e-01,\n",
       "       -3.85855317e-01, -1.03003807e-01,  5.05487502e-01,  5.03157139e-01,\n",
       "       -1.25908569e-01, -9.65505838e-01, -5.11646092e-01, -3.00933048e-03,\n",
       "        7.70507991e-01, -7.60889173e-01, -4.26866300e-02,  3.40364814e-01,\n",
       "        5.38506091e-01,  6.23100042e-01,  2.87827015e-01, -7.16425478e-01,\n",
       "       -2.63085097e-01,  6.86596751e-01, -1.65989906e-01, -6.74789324e-02,\n",
       "       -4.69295174e-01,  7.76460826e-01,  6.96726963e-02,  7.56301105e-01,\n",
       "       -1.27548371e-02,  3.93332660e-01, -5.33778787e-01, -7.28679419e-01,\n",
       "        1.17755890e+00,  4.58379835e-01, -2.32474729e-02,  6.08803689e-01,\n",
       "       -7.21129924e-02,  2.94608232e-02, -1.15206026e-01,  6.63243309e-02,\n",
       "        6.70581609e-02, -8.37163687e-01, -4.86573160e-01,  1.05202568e+00,\n",
       "       -7.54394889e-01,  2.57192254e-01,  4.11277324e-01,  4.27705467e-01,\n",
       "       -3.29767317e-01,  1.89117640e-01,  3.21367621e-01,  2.50787616e-01,\n",
       "       -4.47458953e-01,  2.79411636e-02,  7.90587544e-01,  1.14935648e+00,\n",
       "        5.25825471e-02, -2.86004603e-01,  5.49833834e-01,  3.32365125e-01,\n",
       "       -2.00755581e-01,  6.03868961e-01,  1.95925497e-02,  1.14832126e-01,\n",
       "       -1.55448541e-01,  8.37241411e-02, -3.92999738e-01,  7.79014945e-01,\n",
       "       -6.83623493e-01,  2.32909359e-02, -2.05085754e-01, -1.88548490e-03,\n",
       "        1.45019665e-01,  4.22874749e-01,  4.42156702e-01, -2.99837202e-01,\n",
       "        9.71956491e-01,  5.58573902e-01, -4.67456788e-01, -1.02729253e-01,\n",
       "       -5.09663522e-01, -5.24827003e-01, -1.00229129e-01,  2.72420526e-01,\n",
       "       -5.06850243e-01, -7.91739821e-01,  6.91856742e-02, -2.06999451e-01,\n",
       "        1.36990979e-01, -3.54304433e-01,  7.39622951e-01,  7.21643269e-01,\n",
       "       -4.12252843e-02,  1.01783738e-01,  3.51773381e-01,  4.40866590e-01,\n",
       "        2.38703057e-01, -4.63182747e-01, -1.37123752e+00, -3.83673936e-01,\n",
       "        3.54019344e-01, -3.59181017e-01,  3.36510301e-01, -2.79213190e-01,\n",
       "       -3.55155766e-01, -7.66803145e-01, -7.89691880e-03, -1.10612914e-01,\n",
       "        6.50264919e-01, -3.27488631e-01, -7.14050651e-01, -2.55172458e-02,\n",
       "       -5.09781480e-01, -7.25861669e-01, -2.62551963e-01,  7.95225680e-01,\n",
       "        1.57525301e-01, -1.29306763e-01, -6.91404045e-01,  1.17380105e-01,\n",
       "        1.20937735e-01,  6.38121665e-01, -3.27578425e-01,  1.68976318e-02,\n",
       "       -1.30111873e-01, -3.92415941e-01, -5.66045761e-01, -2.64609218e-01,\n",
       "       -1.53766245e-01,  5.95571816e-01,  9.97647569e-02, -9.05254126e-01,\n",
       "       -3.12274862e-02,  5.48058331e-01,  5.75893164e-01, -2.03731358e-01,\n",
       "        3.21788430e-01,  4.95131947e-02, -2.88229406e-01, -5.80030739e-01,\n",
       "       -3.97690654e-01,  5.54261208e-01,  9.54537511e-01,  5.88452935e-01,\n",
       "       -1.77778110e-01,  2.17685208e-01,  3.42861205e-01,  5.15148580e-01,\n",
       "        7.21286535e-02,  2.94207811e-01, -7.14216709e-01,  2.16730282e-01,\n",
       "        3.80016953e-01, -1.67412058e-01,  2.73032993e-01, -1.06598067e+00,\n",
       "       -3.84498417e-01, -9.49436903e-01,  3.79320920e-01,  1.86603308e-01,\n",
       "        7.68201649e-01, -7.58949444e-02,  9.13630247e-01,  1.50446847e-01,\n",
       "       -2.95459433e-03,  1.70841560e-01, -1.37572691e-01, -2.39648014e-01,\n",
       "        9.26330537e-02,  1.15416855e-01,  5.80881000e-01,  8.05315971e-02,\n",
       "       -4.99934912e-01, -5.29812336e-01,  3.62349361e-01,  2.16499835e-01,\n",
       "       -6.07697546e-01, -4.33018118e-01, -1.08862054e+00,  7.50097156e-01,\n",
       "       -3.21511805e-01, -1.58171341e-01, -9.20113325e-02,  3.61888319e-01,\n",
       "       -5.41478992e-01, -5.29963970e-01,  2.06965491e-01,  3.39486450e-01,\n",
       "        4.75159705e-01, -1.00477248e-01, -4.05014396e-01, -7.52922222e-02,\n",
       "       -1.72786385e-01,  3.88463914e-01, -7.09206760e-01,  5.51612437e-01,\n",
       "        8.23336780e-01, -2.46089071e-01, -1.78234428e-01, -2.63618827e-01,\n",
       "       -7.91542411e-01, -7.26466358e-01, -4.47480917e-01,  5.93460977e-01,\n",
       "       -2.08469138e-01, -2.49159738e-01,  1.43798307e-01,  7.34873414e-01,\n",
       "        5.02235055e-01, -3.11052036e-02,  2.64752448e-01, -2.14634776e-01,\n",
       "        5.26216805e-01, -1.91343263e-01, -9.24274027e-02,  5.99108994e-01,\n",
       "       -4.96353805e-01, -1.96813703e-01,  7.52550364e-01, -1.22200739e+00,\n",
       "        1.29390562e+00,  9.72874522e-01, -2.20742710e-02, -4.02985722e-01,\n",
       "       -4.08294111e-01, -1.09725945e-01,  4.24444288e-01, -2.23887712e-02,\n",
       "        5.57738066e-01, -4.19079006e-01,  2.06859380e-01,  5.19343615e-01,\n",
       "        1.94471866e-01,  2.58559287e-01,  1.15763575e-01, -2.76634753e-01,\n",
       "        6.39145076e-03,  6.97603703e-01, -2.80384328e-02,  1.30130827e-01,\n",
       "       -1.57827675e+00, -8.75424743e-01, -1.83884380e-03,  2.21212283e-01,\n",
       "       -5.36942959e-01,  5.26933253e-01,  1.17169693e-01,  2.34430626e-01,\n",
       "        6.44124746e-01, -1.08997181e-01, -7.04604328e-01, -2.69406676e-01,\n",
       "        2.81051010e-01, -8.62423480e-01, -4.24242258e-01, -6.44041479e-01,\n",
       "       -2.48215236e-02, -6.15100622e-01, -2.18996093e-01, -4.03924584e-01,\n",
       "        1.41420186e-01,  4.57031965e-01,  7.68115520e-02, -4.13298756e-01,\n",
       "        1.31957293e-01, -1.26567745e+00,  1.20738053e+00, -5.05225770e-02,\n",
       "        7.80772924e-01,  5.19121766e-01, -2.99484015e-01,  2.65284747e-01,\n",
       "       -1.64861113e-01,  2.26979136e-01, -2.75960807e-02,  1.89178526e-01,\n",
       "        9.50559974e-01,  3.05927992e-01, -5.73518157e-01,  1.19254982e+00,\n",
       "        1.16291833e+00,  6.72892779e-02, -2.28705451e-01, -3.19437981e-01,\n",
       "       -4.00981337e-01, -5.83813071e-01, -5.15416026e-01, -7.18333572e-02,\n",
       "       -3.40118051e-01,  5.54332793e-01,  2.63585567e-01, -3.12566519e-01,\n",
       "        3.25457364e-01,  4.59337682e-01, -7.53804505e-01,  1.04893410e+00,\n",
       "       -4.73327577e-01, -4.17026818e-01,  6.15665652e-02,  2.10179031e-01,\n",
       "        3.65856379e-01, -4.26067352e-01, -1.20714828e-01, -1.04321584e-01,\n",
       "       -4.61562097e-01, -3.15156251e-01, -6.20086752e-02, -2.99624026e-01,\n",
       "       -1.07827157e-01, -8.34125042e-01,  1.29529145e-02, -7.39206791e-01,\n",
       "        8.01511288e-01, -6.04368985e-01, -3.69037911e-02,  1.02210436e-02,\n",
       "        4.94283825e-01, -1.64451838e-01, -4.84152079e-01,  2.95828670e-01,\n",
       "       -2.06141099e-02,  5.92649817e-01, -5.31006232e-02,  6.09209597e-01,\n",
       "       -9.84967798e-02, -7.34470844e-01,  5.23857400e-03,  7.97167897e-01,\n",
       "        7.49038905e-02,  4.83707674e-02,  8.03663433e-01,  4.70221192e-02,\n",
       "       -9.92050767e-01,  5.13094187e-01,  5.94966054e-01, -1.60260916e+00,\n",
       "        2.64450908e-01, -6.05700910e-01,  9.23665017e-02,  1.73049256e-01,\n",
       "        3.40440154e-01, -5.96059084e-01,  9.49269474e-01,  7.60495514e-02,\n",
       "        2.11331993e-03, -1.19077399e-01, -1.10089052e-02,  1.33394837e+00,\n",
       "       -2.72040814e-02, -2.75319777e-02,  4.35747623e-01,  2.83769965e-01,\n",
       "        1.33338332e-01, -2.75508076e-01, -3.49522322e-01, -5.38771689e-01,\n",
       "        8.93932402e-01,  1.30257225e+00,  5.53505540e-01, -2.02165410e-01,\n",
       "       -2.90154636e-01, -5.96500695e-01,  8.82322133e-01,  6.23481393e-01,\n",
       "       -5.27844191e-01,  1.00811318e-01,  1.28854334e-01, -1.17626452e+00,\n",
       "       -5.73902547e-01,  8.20727825e-01,  2.92766392e-02,  7.38548636e-01,\n",
       "       -2.53179222e-01,  8.45718443e-01,  2.19832733e-01,  1.55704707e-01,\n",
       "        8.57075527e-02, -4.60909426e-01,  4.04034853e-01,  1.71311945e-01,\n",
       "       -2.36895401e-02, -3.29836965e-01, -8.92843008e-01, -6.01765633e-01,\n",
       "        6.77565217e-01,  1.17375565e+00,  7.49943405e-02,  3.24357092e-01,\n",
       "       -1.24077849e-01,  2.50343174e-01, -1.01844691e-01, -6.37146652e-01],\n",
       "      dtype=float32)"
      ]
     },
     "execution_count": 27,
     "metadata": {},
     "output_type": "execute_result"
    }
   ],
   "source": [
    "corpus_embeddings[1]"
   ]
  },
  {
   "cell_type": "code",
   "execution_count": 28,
   "metadata": {},
   "outputs": [
    {
     "name": "stderr",
     "output_type": "stream",
     "text": [
      "/opt/conda/envs/MailMagnet/lib/python3.10/site-packages/sklearn/cluster/_kmeans.py:1416: FutureWarning: The default value of `n_init` will change from 10 to 'auto' in 1.4. Set the value of `n_init` explicitly to suppress the warning\n",
      "  super()._check_params_vs_input(X, default_n_init=10)\n"
     ]
    }
   ],
   "source": [
    "# Then, we perform k-means clustering using sklearn:\n",
    "from sklearn.cluster import KMeans\n",
    "\n",
    "num_clusters = 5\n",
    "clustering_model = KMeans(n_clusters=num_clusters)\n",
    "clustering_model.fit(corpus_embeddings)\n",
    "cluster_assignment = clustering_model.labels_"
   ]
  },
  {
   "cell_type": "code",
   "execution_count": 41,
   "metadata": {},
   "outputs": [
    {
     "data": {
      "text/plain": [
       "4"
      ]
     },
     "execution_count": 41,
     "metadata": {},
     "output_type": "execute_result"
    }
   ],
   "source": [
    "test=embedder.encode(['just to check if it works'])\n",
    "clustering_model.predict(test)[0]"
   ]
  },
  {
   "cell_type": "code",
   "execution_count": 30,
   "metadata": {},
   "outputs": [
    {
     "data": {
      "text/plain": [
       "array([1, 1, 3, 0, 0, 3, 1, 1, 0, 1, 1, 1, 0, 4, 0, 4, 4, 1, 3, 2, 1, 1,\n",
       "       1, 4, 0, 3, 4, 1, 0, 3, 0, 2, 4, 1, 3, 3, 0, 1, 4, 0, 3, 3, 0, 1,\n",
       "       1, 1, 0, 0, 1, 2, 1, 3, 0, 3, 0, 0, 4, 1, 2, 3, 3, 1, 0, 3, 3, 0,\n",
       "       1, 1, 3, 1, 0, 1, 0, 3, 4, 4, 1, 3, 1, 3, 0, 0, 3, 0, 4, 0, 1, 0,\n",
       "       0, 3, 0, 3, 1, 1, 1, 0, 1, 2, 0, 0, 1, 3, 1, 4, 1, 1, 1, 0, 3, 0,\n",
       "       3, 3, 1, 1, 0, 1, 0, 3, 0, 2, 0, 2, 2, 2, 0, 4, 3, 0, 1, 4, 3, 2,\n",
       "       0, 4, 0, 1, 3, 0, 0, 3, 3, 1, 1, 0, 3, 1, 1, 2, 4, 0, 1, 0, 2, 0,\n",
       "       0, 0, 4, 0, 1, 1, 3, 3, 3, 1, 0, 1, 3, 0, 1, 1, 0, 3, 4, 0, 3, 1,\n",
       "       3, 3, 0, 3, 2, 1, 2, 3, 0, 1, 1, 1, 1, 0, 3, 3, 3, 1, 1, 0, 0, 4,\n",
       "       3, 0, 1, 3, 3, 2, 1, 2, 2, 0, 0, 0, 3, 4, 1, 0, 0, 0, 3, 1, 0, 0,\n",
       "       0, 1, 4, 1, 1, 3, 3, 0, 0, 3, 1, 1, 4, 0, 2, 1, 1, 1, 0, 1, 3, 0,\n",
       "       0, 0, 4, 1, 1, 1, 3, 3, 0, 2, 1, 1, 0, 0, 0, 3, 3, 1, 0, 1, 0, 0,\n",
       "       1, 4, 0, 2, 2, 0, 0, 4, 0, 3, 1, 4, 0, 4, 4, 2, 0, 4, 3, 1, 3, 3,\n",
       "       0, 1, 0, 3, 0, 3, 1, 3, 0, 0, 3, 0, 1, 4, 3, 3, 3, 0, 0, 1, 0, 0,\n",
       "       3, 1, 3, 0, 2, 4, 0, 0, 4, 1, 3, 3, 3, 0, 1, 2, 0, 3, 0, 3, 0, 4,\n",
       "       0, 1, 0, 3, 1, 4, 0, 4, 3, 1, 1, 3, 0, 1, 4, 1, 3, 4, 4, 0, 3, 1,\n",
       "       4, 3, 1, 0, 0, 1, 4, 3, 1, 0, 3, 0, 2, 0, 1, 1, 0, 3, 0, 0, 2, 3,\n",
       "       1, 0, 1, 1, 1, 1, 0, 0, 0, 4, 2, 4, 0, 3, 1, 3, 0, 1, 1, 4, 0, 0,\n",
       "       1, 2, 2, 0, 3, 0, 1, 1, 2, 3, 0, 0, 1, 0, 3, 3, 3, 1, 1, 3, 3, 0,\n",
       "       3, 0, 3, 4, 1, 0, 0, 2, 0, 4, 4, 1, 4, 4, 1, 4, 3, 4, 4, 1, 0, 4,\n",
       "       3, 0, 1, 1, 3, 0, 1, 0, 0, 4, 3, 0, 0, 0, 3, 2, 0, 0, 3, 1, 4, 1,\n",
       "       1, 0, 1, 4, 2, 3, 2, 4, 1, 0, 4, 0, 4, 0, 0, 4, 1, 3, 3, 1, 2, 2,\n",
       "       1, 0, 1, 0, 1, 1, 1, 3, 1, 0, 4, 3, 3, 0, 1, 0, 1, 4, 1, 0, 0, 1,\n",
       "       3, 1, 0, 1, 0, 3, 0, 0, 0, 1, 0, 1, 0, 0, 3, 3, 0, 1, 3, 0, 0, 1,\n",
       "       0, 3, 0, 2, 1, 3, 4, 0, 4, 0, 4, 1, 0, 3, 3, 3, 3, 3, 1, 0, 4, 1,\n",
       "       0, 3, 3, 3, 3, 0, 1, 1, 1, 3, 2, 0, 0, 1, 0, 3, 0, 2, 1, 3, 4, 0,\n",
       "       0, 0, 4, 3, 4, 0, 2, 0, 2, 4, 4, 4, 1, 0, 1, 1, 0, 4, 3, 0, 1, 3,\n",
       "       3, 3, 4, 3, 0, 4, 3, 0, 1, 4, 3, 1, 3, 3, 0, 0, 0, 1, 0, 2, 3, 1,\n",
       "       1, 0, 3, 3, 3, 1, 2, 1, 2, 1, 4, 1, 1, 3, 3, 0, 0, 4, 1, 1, 0, 4,\n",
       "       0, 0, 4, 4, 4, 4, 1, 3, 2, 3, 1, 2, 3, 1, 0, 2, 0, 0, 4, 1, 4, 1,\n",
       "       4, 3, 1, 1, 1, 0, 1, 0, 0, 4, 1, 3, 4, 2, 0, 3, 0, 3, 1, 3, 0, 1,\n",
       "       3, 4, 0, 4, 4, 0, 0, 0, 4, 4, 1, 0, 3, 3, 0, 1, 4, 0, 2, 0, 3, 3,\n",
       "       3, 0, 4, 4, 3, 4, 4, 4, 0, 4, 1, 3, 3, 3, 4, 0, 0, 0, 1, 1, 1, 3,\n",
       "       3, 4, 1, 0, 1, 1, 4, 4, 0, 0, 4, 2, 0, 0, 4, 1, 0, 0, 0, 4, 1, 3,\n",
       "       1, 0, 1, 0, 1, 3, 4, 2, 1, 1, 0, 4, 4, 1, 1, 1, 0, 1, 4, 0, 1, 4,\n",
       "       3, 4, 3, 2, 0, 0, 4, 1, 0, 4], dtype=int32)"
      ]
     },
     "execution_count": 30,
     "metadata": {},
     "output_type": "execute_result"
    }
   ],
   "source": [
    "cluster_assignment"
   ]
  },
  {
   "cell_type": "code",
   "execution_count": 31,
   "metadata": {},
   "outputs": [],
   "source": [
    "clustered_sentences = [[] for i in range(num_clusters)]\n",
    "for sentence_id, cluster_id in enumerate(cluster_assignment):\n",
    "    clustered_sentences[cluster_id].append(lines[sentence_id])\n",
    "\n"
   ]
  },
  {
   "cell_type": "code",
   "execution_count": 32,
   "metadata": {},
   "outputs": [
    {
     "name": "stdout",
     "output_type": "stream",
     "text": [
      "weeks theme words ai usage examples secundan sekuhnduhn adjective occurring every day latin secundus second earliest documented use c water conservation ad brisbane australia photo tamara forsooth sir henry hath adopted curious habit taking long walks secundan morrows sun offends next shines please william shakespeare tales times oddities stratford sentinel england jun aigenerated usage example todays sponsor orijinz fabulous game laughed laughed hours play family friends smash much fun wealth passed merit bad luck seen bad character ideologues justify punishing sick poor poverty neither crime character flaw stigmatize let people die struggle live sarah kendzior journalist author b sep looking wordquotation archives change address etc pronunciation permalink\n"
     ]
    }
   ],
   "source": [
    "print(clustered_sentences[0][0])"
   ]
  },
  {
   "cell_type": "code",
   "execution_count": 33,
   "metadata": {},
   "outputs": [
    {
     "name": "stdout",
     "output_type": "stream",
     "text": [
      "Cluster 1 - Labels: new, answer, min, question, read\n",
      "Cluster 2 - Labels: stipend, students, read, internship, inr\n",
      "Cluster 3 - Labels: web, link, take, click, message\n",
      "Cluster 4 - Labels: email, pes, university, linkedin, pesu\n",
      "Cluster 5 - Labels: securities, और, आपक, broker, कर\n"
     ]
    }
   ],
   "source": [
    "from sklearn.feature_extraction.text import TfidfVectorizer\n",
    "\n",
    "# Convert the clustered sentences into separate documents for TF-IDF analysis\n",
    "clustered_documents = [' '.join(cluster) for cluster in clustered_sentences]\n",
    "\n",
    "# Create a TF-IDF vectorizer\n",
    "tfidf_vectorizer = TfidfVectorizer()\n",
    "\n",
    "# Fit and transform the clustered documents\n",
    "tfidf_matrix = tfidf_vectorizer.fit_transform(clustered_documents)\n",
    "\n",
    "# Get the feature names (words) from the TF-IDF vectorizer\n",
    "feature_names = tfidf_vectorizer.get_feature_names_out()\n",
    "\n",
    "# For each cluster, find the top N keywords\n",
    "num_keywords = 5  # You can adjust this value as needed\n",
    "cluster_labels = []\n",
    "\n",
    "for i, cluster_matrix in enumerate(tfidf_matrix):\n",
    "    feature_index = cluster_matrix.toarray().argsort()[:, -num_keywords:][0]\n",
    "    cluster_keywords = [feature_names[idx] for idx in feature_index]\n",
    "    cluster_labels.append(cluster_keywords)\n",
    "\n",
    "# Print the cluster labels\n",
    "for i, labels in enumerate(cluster_labels):\n",
    "    print(f\"Cluster {i + 1} - Labels: {', '.join(labels)}\")\n"
   ]
  }
 ],
 "metadata": {
  "kernelspec": {
   "display_name": "MailMagnet",
   "language": "python",
   "name": "python3"
  },
  "language_info": {
   "codemirror_mode": {
    "name": "ipython",
    "version": 3
   },
   "file_extension": ".py",
   "mimetype": "text/x-python",
   "name": "python",
   "nbconvert_exporter": "python",
   "pygments_lexer": "ipython3",
   "version": "3.10.13"
  }
 },
 "nbformat": 4,
 "nbformat_minor": 2
}
