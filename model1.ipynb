{
 "cells": [
  {
   "cell_type": "code",
   "execution_count": 1,
   "metadata": {},
   "outputs": [
    {
     "name": "stderr",
     "output_type": "stream",
     "text": [
      "C:\\Users\\Aayush\\AppData\\Roaming\\Python\\Python310\\site-packages\\tqdm\\auto.py:21: TqdmWarning: IProgress not found. Please update jupyter and ipywidgets. See https://ipywidgets.readthedocs.io/en/stable/user_install.html\n",
      "  from .autonotebook import tqdm as notebook_tqdm\n"
     ]
    }
   ],
   "source": [
    "from sentence_transformers import SentenceTransformer\n",
    "from sklearn.cluster import KMeans\n",
    "import re\n",
    "import nltk"
   ]
  },
  {
   "cell_type": "code",
   "execution_count": 2,
   "metadata": {},
   "outputs": [],
   "source": [
    "embedder = SentenceTransformer('distilbert-base-nli-stsb-mean-tokens')\n"
   ]
  },
  {
   "cell_type": "code",
   "execution_count": 3,
   "metadata": {},
   "outputs": [],
   "source": [
    "#Emoji Removal\n",
    "\n",
    "def deEmojify(x):\n",
    "    regrex_pattern = re.compile(pattern = \"[\"\n",
    "        u\"\\U0001F600-\\U0001F64F\"  # emoticons\n",
    "        u\"\\U0001F300-\\U0001F5FF\"  # symbols & pictographs\n",
    "        u\"\\U0001F680-\\U0001F6FF\"  # transport & map symbols\n",
    "        u\"\\U0001F1E0-\\U0001F1FF\"  # flags (iOS)\n",
    "                           \"]+\", flags = re.UNICODE)\n",
    "    return regrex_pattern.sub(r'', x)"
   ]
  },
  {
   "cell_type": "code",
   "execution_count": 4,
   "metadata": {},
   "outputs": [],
   "source": [
    "#Cleaning basic Characters\n",
    "\n",
    "def clean(raw):\n",
    "    \"\"\" Remove hyperlinks and markup \"\"\"\n",
    "    result = re.sub(\"<[a][^>]*>(.+?)</[a]>\", 'Link.', raw)\n",
    "    result = re.sub('&gt;', \"\", result)\n",
    "    result = re.sub('&#x27;', \"'\", result)\n",
    "    result = re.sub('&quot;', '\"', result)\n",
    "    result = re.sub('&#x2F;', ' ', result)\n",
    "    result = re.sub('<p>', ' ', result)\n",
    "    result = re.sub('</i>', '', result)\n",
    "    result = re.sub('&#62;', '', result)\n",
    "    result = re.sub('<i>', ' ', result)\n",
    "    result = re.sub(\"\\n\", '', result)\n",
    "    return result"
   ]
  },
  {
   "cell_type": "code",
   "execution_count": 5,
   "metadata": {},
   "outputs": [],
   "source": [
    "def remove_num(texts):\n",
    "    output = re.sub(r'\\d+', '', texts )\n",
    "    return output"
   ]
  },
  {
   "cell_type": "code",
   "execution_count": 6,
   "metadata": {},
   "outputs": [],
   "source": [
    "def unify_whitespaces(text):\n",
    "    cleaned_string = re.sub(' +', ' ', text )\n",
    "    return cleaned_string"
   ]
  },
  {
   "cell_type": "code",
   "execution_count": 7,
   "metadata": {},
   "outputs": [],
   "source": [
    "def remove_punctuation(text):\n",
    "    result = \"\".join(u for u in text if u not in (\"?\", \".\", \";\", \":\",  \"!\",'\"',',') )\n",
    "    return result"
   ]
  },
  {
   "cell_type": "code",
   "execution_count": 43,
   "metadata": {},
   "outputs": [
    {
     "name": "stderr",
     "output_type": "stream",
     "text": [
      "[nltk_data] Downloading package stopwords to\n",
      "[nltk_data]     C:\\Users\\Aayush\\AppData\\Roaming\\nltk_data...\n",
      "[nltk_data]   Package stopwords is already up-to-date!\n"
     ]
    }
   ],
   "source": [
    "from nltk.corpus import stopwords\n",
    "from nltk import WordNetLemmatizer\n",
    "nltk.download('stopwords')\n",
    "from nltk.stem import PorterStemmer\n",
    "\n",
    "stop = set(stopwords.words('english')).union({'unsubscribe', 'min', 'answer', 'question', 'please', 'email', 'web', 'see', 'link', 'click'})\n",
    "#add unsubscribe to stop\n",
    "stemmer = PorterStemmer()\n",
    "lemma = WordNetLemmatizer()\n",
    "\n",
    "def remove_stopwords(text):\n",
    "    text = [word.lower() for word in text.split() if word.lower() not in stop ]\n",
    "    return ' '.join(text)"
   ]
  },
  {
   "cell_type": "code",
   "execution_count": 44,
   "metadata": {},
   "outputs": [],
   "source": [
    "def preprocess(line):\n",
    "    line=re.sub(r'http\\S+', '', line.strip())\n",
    "    line = re.sub(r'[!\"#$%&\\'()*+,-./:;?@[\\\\\\]^_{|}~`]', '', line)\n",
    "    line=deEmojify(line)\n",
    "    line=clean(line)\n",
    "    line=remove_num(line)\n",
    "    line=unify_whitespaces(line)\n",
    "    line=remove_punctuation(line)\n",
    "    line=remove_stopwords(line)\n",
    "    return line\n"
   ]
  },
  {
   "cell_type": "code",
   "execution_count": 45,
   "metadata": {},
   "outputs": [
    {
     "name": "stdout",
     "output_type": "stream",
     "text": [
      "3342\n",
      "special offer =================== amazon prime video =================== =================== dear aayush join prime ₹year get ₹ amazon pay cashback make offer enjoy blockbuster entertainment free fast delivery adfree music hurry offer valid till th july white black join prime =================== tc apply white black =================== recently added movies godday godday chaa — included prime veeran — included prime mem famous — included prime ravanasura hindi — included prime =================== recently added tv deadloch season — included prime fit check confessions ukay queen season — included prime mens club new chapter — included prime prank tank season — included prime =================== find us youtube facebook twitter instagram prime video provides occasional updates new noteworthy movies tv shows sensitive time remain committed limiting emails important news well critical information account want receive future emails sort prime video modify account settings message sent amazon entity noted © amazoncom inc affiliates amazon prime prime video twitch fire related logos trademarks amazoncom inc affiliates note sent aayushsenapatigmailcom notificationonly address cant accept incoming emails reply message questions wish contact us click reference\n"
     ]
    }
   ],
   "source": [
    "file_path = './emails1.csv'\n",
    "lines = []\n",
    "with open(file_path, 'r', encoding = 'utf-8') as file:\n",
    "    for line in file:\n",
    "        if line.strip()!='\"\"':\n",
    "            line = preprocess(line)\n",
    "            lines.append(line)\n",
    "lines=lines[1:]\n",
    "print(len(lines))\n",
    "print(lines[1])"
   ]
  },
  {
   "cell_type": "code",
   "execution_count": 46,
   "metadata": {},
   "outputs": [],
   "source": [
    "corpus_embeddings = embedder.encode(lines)"
   ]
  },
  {
   "cell_type": "code",
   "execution_count": 47,
   "metadata": {},
   "outputs": [
    {
     "data": {
      "text/plain": [
       "array([-2.26535425e-02,  9.38225746e-01,  4.56789315e-01,  8.51018429e-02,\n",
       "       -5.83606958e-02, -5.79792202e-01, -5.01058519e-01, -2.00674653e-01,\n",
       "        5.04988909e-01, -7.44988441e-01, -7.70888627e-01,  9.59893107e-01,\n",
       "       -2.03960165e-01, -2.09418014e-02,  1.08120605e-01,  4.50182140e-01,\n",
       "        1.57556564e-01, -1.18169628e-01, -8.91938269e-01,  3.85979116e-01,\n",
       "        7.82972276e-01,  3.79904211e-01, -2.92634219e-03,  4.15963009e-02,\n",
       "        4.01973277e-02,  5.07716358e-01, -3.03154141e-02,  4.39522713e-02,\n",
       "        5.94450355e-01,  5.27402043e-01,  1.27560997e+00, -9.97093678e-01,\n",
       "       -3.34229439e-01, -1.83697104e-01,  2.66562343e-01,  9.32723880e-02,\n",
       "       -9.38415706e-01,  3.61560225e-01,  7.80448854e-01, -7.45326459e-01,\n",
       "       -4.01485741e-01,  6.71505928e-02,  7.50741720e-01, -2.24958047e-01,\n",
       "        2.04657733e-01,  1.62237227e-01,  2.12466344e-02, -1.14057248e-03,\n",
       "       -1.03113997e+00,  9.79202986e-01,  1.90775067e-01, -9.04165626e-01,\n",
       "       -5.24218678e-01, -6.56190276e-01, -1.43828601e-01, -8.35208446e-02,\n",
       "       -8.83621275e-01, -1.17236421e-01, -2.46668413e-01, -9.32172775e-01,\n",
       "        1.48958534e-01,  3.11475486e-01,  1.17767870e-01, -2.92555511e-01,\n",
       "       -5.09010665e-02, -1.03793299e+00, -5.57078838e-01, -6.11168623e-01,\n",
       "        8.44519794e-01, -9.31848109e-01,  9.77391601e-01, -7.10709840e-02,\n",
       "        1.32175028e-01,  4.12268728e-01,  6.56608641e-02, -3.92268449e-01,\n",
       "       -6.34700239e-01, -6.01561926e-02,  1.35441139e-01, -3.21188793e-02,\n",
       "       -2.05240548e-01, -1.12051427e+00,  1.34824753e-01,  3.95031542e-01,\n",
       "       -3.28130946e-02,  1.06700206e+00,  4.64551926e-01,  7.36799717e-01,\n",
       "        2.98222244e-01, -2.73031145e-02,  8.55558336e-01, -1.40764415e-01,\n",
       "        6.73519135e-01,  2.59104043e-01,  3.17892954e-02, -1.99734747e-01,\n",
       "        3.08309227e-01, -9.42758441e-01, -4.89602424e-02,  1.98326513e-01,\n",
       "       -4.24142599e-01,  2.38810256e-01, -6.40903234e-01, -4.55422968e-01,\n",
       "       -3.40508699e-01,  7.85160184e-01,  7.71992877e-02,  2.07983494e-01,\n",
       "       -9.70724821e-02,  4.58757877e-01,  4.65631306e-01,  1.33345187e-01,\n",
       "        2.28430480e-02,  3.49488080e-01, -3.25943120e-02, -9.02501225e-01,\n",
       "        3.84856582e-01,  9.72969174e-01,  5.76846898e-01,  8.50056559e-02,\n",
       "        4.25831378e-01, -3.14684361e-02,  1.39081106e-01, -2.71261692e-01,\n",
       "        3.57581764e-01, -1.01244223e+00, -1.80320859e-01, -4.16366518e-01,\n",
       "        7.72187114e-01, -6.24493137e-02,  2.66655535e-01,  1.01781562e-02,\n",
       "       -9.40963149e-01,  8.91263932e-02,  1.27344370e+00,  3.40213418e-01,\n",
       "       -5.09128571e-01, -4.72672552e-01, -6.07208461e-02,  2.50932366e-01,\n",
       "       -6.29742324e-01, -5.16555607e-01,  2.58093357e-01,  2.32003450e-01,\n",
       "        2.32086644e-01,  3.48015964e-01, -6.63015246e-01, -7.14128792e-01,\n",
       "       -8.96814391e-02,  4.36941504e-01,  1.50298715e-01,  1.78575277e-01,\n",
       "       -8.03295612e-01, -1.45256579e-01, -1.69458136e-01,  2.60625154e-01,\n",
       "       -1.50195241e-01, -1.02557771e-01,  3.01139474e-01,  6.64235801e-02,\n",
       "       -5.77488601e-01,  5.11411846e-01,  3.78456235e-01, -5.06722450e-01,\n",
       "       -3.28826964e-01, -6.36691689e-01,  3.14736813e-01,  2.53965765e-01,\n",
       "       -3.87725085e-01, -9.61655192e-03, -3.62139881e-01,  8.91091943e-01,\n",
       "       -2.28598058e-01,  1.36286989e-02,  3.65189075e-01,  3.25042546e-01,\n",
       "        6.76636338e-01, -2.40334533e-02,  5.07727526e-02,  7.81085849e-01,\n",
       "        4.87831444e-01,  1.14848864e+00, -3.90391737e-01, -3.01442921e-01,\n",
       "       -1.47769928e-01, -1.29385469e-02, -4.97018024e-02,  5.92486024e-01,\n",
       "       -7.33579844e-02, -3.34618911e-02, -7.25801587e-02, -5.25515676e-01,\n",
       "       -3.60681087e-01, -2.11025283e-01, -1.16242342e-01,  3.19985062e-01,\n",
       "        5.94772577e-01,  1.75656366e+00,  6.60270214e-01, -6.43874407e-01,\n",
       "       -2.95611203e-01,  2.60351896e-01, -3.30992341e-01,  3.41701120e-01,\n",
       "       -3.44953001e-01, -2.27386370e-01,  7.65593052e-01,  7.91990519e-01,\n",
       "        7.57528245e-02, -8.27937961e-01,  4.58629578e-01, -4.83020365e-01,\n",
       "        2.56100804e-01,  4.24577534e-01, -6.85643971e-01,  8.53046536e-01,\n",
       "       -5.94273031e-01, -1.06039774e+00, -1.94991395e-01,  3.91362011e-02,\n",
       "        3.31954688e-01,  2.55294710e-01,  1.11708856e+00, -1.68746799e-01,\n",
       "       -2.97133684e-01,  1.17627054e-01,  1.73887521e-01, -4.34590101e-01,\n",
       "        7.16977492e-02, -1.74735874e-01, -1.51968688e-01,  1.26732998e-02,\n",
       "        6.10327348e-03, -2.39628345e-01,  1.13718700e+00, -6.87564239e-02,\n",
       "        3.83558691e-01,  2.68158674e-01,  3.66679057e-02, -2.69523799e-01,\n",
       "       -4.36715186e-01, -7.21068323e-01,  6.38007373e-02, -9.75946069e-01,\n",
       "        7.04291821e-01,  5.39172292e-01, -4.21147555e-01, -1.20438442e-01,\n",
       "        1.30609322e+00, -7.11633205e-01, -2.49577880e-01,  1.45516127e-01,\n",
       "       -2.08092541e-01, -3.40525925e-01,  5.75717688e-01, -2.02557757e-01,\n",
       "       -5.94693184e-01, -3.78030449e-01,  4.78679448e-01,  3.23733896e-01,\n",
       "        4.45055038e-01,  3.33676696e-01, -1.83498517e-01, -7.06245542e-01,\n",
       "       -1.82258427e-01,  9.45319831e-01, -3.43958229e-01, -1.36492923e-01,\n",
       "        4.11791354e-01,  1.84317790e-02, -1.51923466e+00, -6.83002323e-02,\n",
       "       -7.55373895e-01,  1.84461266e-01,  4.54994470e-01,  4.52272475e-01,\n",
       "       -7.66494274e-01,  3.14786658e-03,  4.41715837e-01, -4.80568141e-01,\n",
       "       -3.96917462e-01, -1.10434003e-01, -4.00527716e-01, -4.04004633e-01,\n",
       "       -1.09713256e+00, -8.04541588e-01, -9.38046455e-01,  1.40565842e-01,\n",
       "       -6.36090897e-03, -1.74551323e-01,  1.09235957e-01,  7.06352592e-01,\n",
       "       -2.54573286e-01,  2.46862136e-02,  7.98700809e-01, -5.20045340e-01,\n",
       "        3.08115594e-02,  5.57133317e-01, -6.88415393e-02, -2.40372658e-01,\n",
       "       -8.57689083e-01, -1.91818103e-01, -1.53522305e-02, -3.61123145e-01,\n",
       "        7.14337885e-01, -7.72521734e-01,  8.96180093e-01,  1.32606491e-01,\n",
       "       -9.19553876e-01, -5.75701892e-02, -3.39598894e-01,  1.38871223e-01,\n",
       "        8.48065615e-01,  7.99313188e-02, -5.89697421e-01,  1.02622223e+00,\n",
       "        1.63152504e+00,  2.93538868e-01, -4.78855312e-01,  3.25597823e-01,\n",
       "       -1.92750499e-01, -6.22428596e-01,  4.58027244e-01, -8.66042599e-02,\n",
       "       -4.94121313e-01,  6.84996605e-01,  1.50135845e-01, -3.39548230e-01,\n",
       "       -7.85855830e-01, -9.76850688e-02,  2.80876756e-01, -5.65773666e-01,\n",
       "       -5.88478073e-02, -1.01920772e+00, -4.80616912e-02,  4.11576778e-02,\n",
       "        6.21298492e-01,  2.24764392e-01,  1.63030997e-01, -1.70076579e-01,\n",
       "        4.19943452e-01,  3.88402939e-01, -6.60954773e-01, -1.57716230e-01,\n",
       "       -8.12016428e-01, -3.80584121e-01, -1.03679430e+00, -1.46384820e-01,\n",
       "       -5.21660924e-01, -3.02800030e-01, -2.17835173e-01, -8.17316055e-01,\n",
       "        4.50262547e-01, -2.25738853e-01,  5.26286602e-01, -3.12367558e-01,\n",
       "        3.91610384e-01, -2.92644680e-01, -3.12123984e-01, -7.10437536e-01,\n",
       "       -3.05320859e-01, -3.27534288e-01,  1.63779736e-01, -2.02618510e-01,\n",
       "        2.86990315e-01,  5.23482919e-01,  2.42698878e-01, -8.31450462e-01,\n",
       "        5.29483199e-01, -2.58940816e-01,  1.24782287e-01,  2.28758231e-02,\n",
       "        8.58116150e-02,  5.82832932e-01, -4.31458324e-01,  4.89151955e-01,\n",
       "       -3.13657641e-01,  1.57477462e+00,  1.84190229e-01,  3.90796781e-01,\n",
       "       -8.43090713e-01, -1.58554241e-01, -4.68569919e-02,  7.76660666e-02,\n",
       "       -2.81524211e-01,  3.24501812e-01, -7.67382979e-01,  2.32260764e-01,\n",
       "        6.97013676e-01, -1.50174707e-01,  7.14836001e-01, -1.47144258e-01,\n",
       "        1.24396777e+00,  2.66685367e-01, -3.55974808e-02, -1.46963984e-01,\n",
       "        1.98650002e-01,  6.66874468e-01,  3.15166488e-02, -8.64394680e-02,\n",
       "       -8.66214275e-01,  6.29885495e-01,  2.63262451e-01,  4.92730528e-01,\n",
       "       -7.08478570e-01,  2.41566241e-01, -1.05760562e+00, -7.53782213e-01,\n",
       "        5.51503718e-01,  3.45872611e-01,  1.50942475e-01, -1.00548528e-01,\n",
       "        5.26546657e-01, -1.68877706e-01, -1.31754175e-01,  4.24223006e-01,\n",
       "       -3.54701817e-01, -6.78707361e-01, -1.53521523e-01,  1.02722451e-01,\n",
       "        1.78584799e-01,  9.43839252e-02,  3.67500544e-01,  2.43969992e-01,\n",
       "       -4.02146488e-01, -4.91345227e-02, -3.47150192e-02,  5.54187819e-02,\n",
       "       -2.54997343e-01, -2.30588853e-01,  3.62855315e-01, -3.51465866e-03,\n",
       "        8.09893250e-01,  2.54344679e-02,  4.22567487e-01,  2.36808836e-01,\n",
       "       -2.75173098e-01,  7.90222049e-01,  6.95425689e-01, -8.93256590e-02,\n",
       "        6.33892417e-01,  6.11701980e-03, -6.77666247e-01, -1.98973104e-01,\n",
       "        3.81462216e-01,  6.21279895e-01, -6.08899713e-01,  3.58909875e-01,\n",
       "       -3.21034312e-01,  4.05066073e-01, -1.30060062e-01,  5.87552562e-02,\n",
       "        5.83571374e-01,  1.33161813e-01, -2.52479732e-01, -3.49420071e-01,\n",
       "       -5.26454709e-02, -1.35436273e+00, -1.30450034e+00, -2.36741856e-01,\n",
       "       -1.62213102e-01, -4.16712184e-03, -3.52780521e-01, -1.06142199e+00,\n",
       "        3.72946680e-01, -5.97128153e-01, -8.58284160e-02,  1.60489455e-01,\n",
       "       -1.04968607e+00, -1.88111648e-01,  4.79646400e-03,  8.41827095e-01,\n",
       "        3.55820179e-01, -5.61422765e-01, -1.29417288e+00,  1.77766085e-01,\n",
       "       -5.22427738e-01, -6.33940458e-01, -5.80688305e-02, -2.58326650e-01,\n",
       "       -2.24237338e-01, -2.42985308e-01,  2.48353243e-01,  7.08002374e-02,\n",
       "        9.70190167e-01, -2.53201365e-01,  1.53365526e-02,  6.73666358e-01,\n",
       "       -1.62003115e-01, -6.17415868e-02, -3.05277735e-01, -1.87255129e-01,\n",
       "       -1.80570737e-01, -7.15294242e-01, -3.15646291e-01,  5.21249533e-01,\n",
       "        3.05441618e-01,  7.66723156e-02, -2.44498163e-01,  1.13845222e-01,\n",
       "        1.58190191e-01,  4.91899818e-01, -2.98556745e-01,  3.71509083e-02,\n",
       "       -2.43006766e-01,  4.15180996e-02,  1.76394805e-01, -7.43382096e-01,\n",
       "        2.46142477e-01,  6.71038628e-01,  2.15950966e-01,  4.38527972e-01,\n",
       "       -1.89689212e-02,  2.31250018e-01, -2.98254043e-01,  7.54936337e-02,\n",
       "       -3.98390383e-01,  1.05629236e-01, -7.87089169e-02,  2.65667677e-01,\n",
       "        1.05415471e-01,  3.30273062e-01, -7.65220523e-01, -2.22257584e-01,\n",
       "        1.85892344e-01,  6.56217158e-01, -3.26336652e-01,  4.91822511e-02,\n",
       "        3.35990012e-01, -2.08712146e-01,  5.29184043e-01, -1.78011024e+00,\n",
       "       -5.93957126e-01, -2.93411106e-01,  3.78503948e-01, -4.72549468e-01,\n",
       "       -4.50103760e-01, -1.13354415e-01,  6.90816820e-01, -1.99287787e-01,\n",
       "       -4.82259095e-01,  6.51738644e-01,  9.77497220e-01, -1.59082487e-01,\n",
       "        3.72353137e-01,  9.27821547e-02, -2.73700118e-01, -7.00685441e-01,\n",
       "       -9.13283765e-01, -5.06377518e-01,  2.31360033e-01,  6.39045984e-03,\n",
       "        3.24995548e-01,  3.98066223e-01, -1.01142836e+00,  7.60978281e-01,\n",
       "       -1.02686048e-01,  2.84567326e-01,  4.85409379e-01, -2.24393651e-01,\n",
       "       -4.13097888e-01, -7.32167602e-01,  1.02498174e+00,  5.47895670e-01,\n",
       "        8.72997999e-01,  3.59311700e-01, -5.58792293e-01,  3.54047835e-01,\n",
       "       -2.98017770e-01,  8.76847208e-01, -1.17580950e+00,  2.21686646e-01,\n",
       "        4.79117960e-01,  3.31728190e-01, -3.83880556e-01, -4.24816787e-01,\n",
       "       -3.81905258e-01, -4.74574059e-01, -9.28414464e-02,  4.89063680e-01,\n",
       "       -2.16454118e-01, -9.47920799e-01,  1.32747257e+00,  5.82349241e-01,\n",
       "       -4.51759040e-01, -5.23710430e-01,  2.68109500e-01,  1.29509389e-01,\n",
       "        2.84606129e-01, -4.12186325e-01, -4.43307191e-01, -1.64799079e-01,\n",
       "       -5.07403672e-01,  1.08355723e-01,  6.82595074e-01, -9.36954916e-01,\n",
       "        1.14606333e+00,  7.10765839e-01,  9.96380374e-02,  1.97565168e-01,\n",
       "        9.39156413e-01, -1.12720788e+00, -8.83617252e-02, -1.26144022e-01,\n",
       "        8.00817728e-01, -9.94028986e-01,  1.37880534e-01,  5.60978830e-01,\n",
       "        2.75937580e-02, -1.06720769e+00, -1.48636132e-01, -3.75289947e-01,\n",
       "        6.50398970e-01, -1.64362133e-01, -4.12452102e-01, -1.55179858e-01,\n",
       "       -6.33972228e-01, -4.41244721e-01,  2.72010684e-01,  6.75099909e-01,\n",
       "        1.35608196e-01,  5.28785706e-01, -2.34685063e-01,  7.83615291e-01,\n",
       "        5.49698830e-01, -4.02876325e-02, -3.73998106e-01, -5.12873977e-02,\n",
       "       -4.91732836e-01, -1.02128875e+00, -4.63523299e-01,  1.94125235e-01,\n",
       "        2.51636237e-01, -6.19791925e-01,  4.82017338e-01, -5.04733384e-01,\n",
       "       -3.67555469e-01,  3.33695054e-01,  1.05004990e+00, -2.68774837e-01,\n",
       "       -1.08022833e+00, -6.78710461e-01,  5.50776899e-01,  7.09021449e-01,\n",
       "        1.47123650e-01,  8.04415643e-01, -1.13288987e+00, -9.37552094e-01,\n",
       "       -5.74906409e-01,  2.61643857e-01, -8.51760954e-02, -8.41361135e-02,\n",
       "       -2.35840846e-02,  5.37809312e-01,  1.63087361e-02,  5.68805099e-01,\n",
       "        6.15894735e-01, -1.70941859e-01, -1.81543469e-01, -8.37974668e-01,\n",
       "       -2.01802254e-01, -2.29545772e-01, -7.81449318e-01, -1.89206421e-01,\n",
       "       -4.33517516e-01, -2.76555330e-01,  2.84301545e-02, -6.32477164e-01,\n",
       "        4.24894094e-01,  3.26527476e-01, -7.25823760e-01,  1.32972109e+00,\n",
       "       -1.31686941e-01, -1.15885690e-01, -5.66012323e-01, -8.10396731e-01,\n",
       "       -1.24545135e-02, -8.36960912e-01, -1.22032309e+00, -1.92225665e-01,\n",
       "       -8.53120267e-01, -1.43937483e-01,  2.76075423e-01, -9.45422411e-01,\n",
       "        1.56929437e-02, -1.37671322e-01,  7.88532756e-03, -3.02178264e-01,\n",
       "        1.05426013e+00, -3.48931313e-01, -5.92276812e-01,  2.94952303e-01,\n",
       "        1.39685357e+00,  1.88512191e-01, -5.09762824e-01, -1.52532652e-01,\n",
       "       -5.18267334e-01,  7.21626759e-01, -3.28683496e-01,  5.96323907e-01,\n",
       "       -5.03733516e-01,  1.83515936e-01,  2.25723252e-01,  2.54714012e-01,\n",
       "       -3.30279499e-01,  3.25322688e-01,  2.53244758e-01, -3.83389384e-01,\n",
       "       -9.16661680e-01,  7.07104087e-01, -5.13191104e-01, -9.56996202e-01,\n",
       "        1.04124951e+00, -6.52668774e-01,  1.36968926e-01,  3.87514204e-01,\n",
       "        5.20486176e-01, -4.92792040e-01,  8.92314091e-02, -1.04206219e-01,\n",
       "        6.51783586e-01, -1.88609540e-01,  1.19277194e-01,  1.04875183e+00,\n",
       "       -1.11295909e-01,  1.96039915e-01,  3.62914473e-01,  4.88246322e-01,\n",
       "        2.94749111e-01,  1.37223035e-01, -2.90940553e-01, -6.46847427e-01,\n",
       "        8.30460012e-01, -6.82646334e-02, -6.23840868e-01, -7.04997003e-01,\n",
       "        1.55001432e-01,  1.30572975e-01,  7.94069767e-01,  5.85143387e-01,\n",
       "       -3.14284176e-01, -4.87175941e-01, -4.65631306e-01,  1.47446290e-01,\n",
       "       -1.07319012e-01,  5.54867685e-01,  8.95490348e-02,  9.82380688e-01,\n",
       "       -1.00262475e+00,  8.04810762e-01, -3.61762613e-01,  3.37259263e-01,\n",
       "       -3.14458668e-01,  5.23018003e-01, -1.66922167e-01, -3.92695725e-01,\n",
       "        2.77733535e-01, -2.28957117e-01, -3.40393558e-02, -1.70240152e+00,\n",
       "       -3.95289332e-01, -2.48783976e-01, -1.23347573e-01,  8.68761957e-01,\n",
       "        3.02216321e-01,  5.49565196e-01, -8.69799256e-02, -1.58790555e-02],\n",
       "      dtype=float32)"
      ]
     },
     "execution_count": 47,
     "metadata": {},
     "output_type": "execute_result"
    }
   ],
   "source": [
    "corpus_embeddings[1]"
   ]
  },
  {
   "cell_type": "code",
   "execution_count": 67,
   "metadata": {},
   "outputs": [
    {
     "name": "stderr",
     "output_type": "stream",
     "text": [
      "C:\\Users\\Aayush\\AppData\\Roaming\\Python\\Python310\\site-packages\\sklearn\\cluster\\_kmeans.py:1412: FutureWarning: The default value of `n_init` will change from 10 to 'auto' in 1.4. Set the value of `n_init` explicitly to suppress the warning\n",
      "  super()._check_params_vs_input(X, default_n_init=10)\n"
     ]
    }
   ],
   "source": [
    "# Then, we perform k-means clustering using sklearn:\n",
    "from sklearn.cluster import KMeans\n",
    "\n",
    "num_clusters = 5\n",
    "clustering_model = KMeans(n_clusters=num_clusters)\n",
    "clustering_model.fit(corpus_embeddings)\n",
    "cluster_assignment = clustering_model.labels_"
   ]
  },
  {
   "cell_type": "code",
   "execution_count": 68,
   "metadata": {},
   "outputs": [
    {
     "data": {
      "text/plain": [
       "1"
      ]
     },
     "execution_count": 68,
     "metadata": {},
     "output_type": "execute_result"
    }
   ],
   "source": [
    "comment = 'internship offered by company'\n",
    "preprocessed = preprocess(comment)\n",
    "test=embedder.encode([preprocessed])\n",
    "clustering_model.predict(test)[0]"
   ]
  },
  {
   "cell_type": "code",
   "execution_count": 69,
   "metadata": {},
   "outputs": [
    {
     "data": {
      "text/plain": [
       "array([1, 1, 0, ..., 1, 2, 1])"
      ]
     },
     "execution_count": 69,
     "metadata": {},
     "output_type": "execute_result"
    }
   ],
   "source": [
    "cluster_assignment"
   ]
  },
  {
   "cell_type": "code",
   "execution_count": 70,
   "metadata": {},
   "outputs": [],
   "source": [
    "clustered_sentences = [[] for i in range(num_clusters)]\n",
    "for sentence_id, cluster_id in enumerate(cluster_assignment):\n",
    "    clustered_sentences[cluster_id].append(lines[sentence_id])\n",
    "\n"
   ]
  },
  {
   "cell_type": "code",
   "execution_count": 71,
   "metadata": {},
   "outputs": [
    {
     "name": "stdout",
     "output_type": "stream",
     "text": [
      "weeks theme skunk words words avoid mosey mohzee verb intr move leisurely manner leave quickly uncertain origin earliest documented use see usage examples vocabularycoms dictionary illustration anu garg ai everyone moseys hurry get anywhere sandra block happened night sourcebooks took money moseyed one stopped phil brody holden age hollywood medallion sponsored played orijinz players aged much fun im hooked orijinz fun fascinating word phrase origins game sky everything else weather pema chodron buddhist nun author b jul looking wordquotation archives change address etc pronunciation permalink\n"
     ]
    }
   ],
   "source": [
    "print(clustered_sentences[0][0])"
   ]
  },
  {
   "cell_type": "code",
   "execution_count": 72,
   "metadata": {},
   "outputs": [
    {
     "name": "stdout",
     "output_type": "stream",
     "text": [
      "Cluster 1 - Labels: visit, new, one, like, read\n",
      "Cluster 2 - Labels: learn, ai, data, ieee, read\n",
      "Cluster 3 - Labels: aayush, pesu, pes, university, linkedin\n",
      "Cluster 4 - Labels: account, आपक, और, broker, कर\n",
      "Cluster 5 - Labels: version, link, take, click, message\n"
     ]
    }
   ],
   "source": [
    "from sklearn.feature_extraction.text import TfidfVectorizer\n",
    "\n",
    "# Convert the clustered sentences into separate documents for TF-IDF analysis\n",
    "clustered_documents = [' '.join(cluster) for cluster in clustered_sentences]\n",
    "\n",
    "# Create a TF-IDF vectorizer\n",
    "tfidf_vectorizer = TfidfVectorizer()\n",
    "\n",
    "# Fit and transform the clustered documents\n",
    "tfidf_matrix = tfidf_vectorizer.fit_transform(clustered_documents)\n",
    "\n",
    "# Get the feature names (words) from the TF-IDF vectorizer\n",
    "feature_names = tfidf_vectorizer.get_feature_names_out()\n",
    "\n",
    "# For each cluster, find the top N keywords\n",
    "num_keywords = 5  # You can adjust this value as needed\n",
    "cluster_labels = []\n",
    "\n",
    "for i, cluster_indices in enumerate(tfidf_matrix):\n",
    "    # Get the indices of the top N keywords\n",
    "    feature_index = cluster_indices.toarray().argsort()[0, -num_keywords:]\n",
    "    cluster_keywords = [feature_names[idx] for idx in feature_index]\n",
    "    cluster_labels.append(cluster_keywords)\n",
    "\n",
    "# Print the cluster labels\n",
    "for i, labels in enumerate(cluster_labels):\n",
    "    print(f\"Cluster {i + 1} - Labels: {', '.join(labels)}\")\n"
   ]
  },
  {
   "cell_type": "code",
   "execution_count": null,
   "metadata": {},
   "outputs": [],
   "source": []
  }
 ],
 "metadata": {
  "kernelspec": {
   "display_name": "MailMagnet",
   "language": "python",
   "name": "python3"
  },
  "language_info": {
   "codemirror_mode": {
    "name": "ipython",
    "version": 3
   },
   "file_extension": ".py",
   "mimetype": "text/x-python",
   "name": "python",
   "nbconvert_exporter": "python",
   "pygments_lexer": "ipython3",
   "version": "3.10.0"
  }
 },
 "nbformat": 4,
 "nbformat_minor": 2
}
