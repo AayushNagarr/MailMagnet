{
 "cells": [
  {
   "cell_type": "code",
   "execution_count": 29,
   "metadata": {},
   "outputs": [],
   "source": [
    "from sentence_transformers import SentenceTransformer\n",
    "from sklearn.cluster import KMeans\n",
    "import re\n",
    "import nltk"
   ]
  },
  {
   "cell_type": "code",
   "execution_count": 30,
   "metadata": {},
   "outputs": [],
   "source": [
    "embedder = SentenceTransformer('distilbert-base-nli-stsb-mean-tokens')\n"
   ]
  },
  {
   "cell_type": "code",
   "execution_count": 31,
   "metadata": {},
   "outputs": [],
   "source": [
    "#Emoji Removal\n",
    "\n",
    "def deEmojify(x):\n",
    "    regrex_pattern = re.compile(pattern = \"[\"\n",
    "        u\"\\U0001F600-\\U0001F64F\"  # emoticons\n",
    "        u\"\\U0001F300-\\U0001F5FF\"  # symbols & pictographs\n",
    "        u\"\\U0001F680-\\U0001F6FF\"  # transport & map symbols\n",
    "        u\"\\U0001F1E0-\\U0001F1FF\"  # flags (iOS)\n",
    "                           \"]+\", flags = re.UNICODE)\n",
    "    return regrex_pattern.sub(r'', x)"
   ]
  },
  {
   "cell_type": "code",
   "execution_count": 32,
   "metadata": {},
   "outputs": [],
   "source": [
    "#Cleaning basic Characters\n",
    "\n",
    "def clean(raw):\n",
    "    \"\"\" Remove hyperlinks and markup \"\"\"\n",
    "    result = re.sub(\"<[a][^>]*>(.+?)</[a]>\", 'Link.', raw)\n",
    "    result = re.sub('&gt;', \"\", result)\n",
    "    result = re.sub('&#x27;', \"'\", result)\n",
    "    result = re.sub('&quot;', '\"', result)\n",
    "    result = re.sub('&#x2F;', ' ', result)\n",
    "    result = re.sub('<p>', ' ', result)\n",
    "    result = re.sub('</i>', '', result)\n",
    "    result = re.sub('&#62;', '', result)\n",
    "    result = re.sub('<i>', ' ', result)\n",
    "    result = re.sub(\"\\n\", '', result)\n",
    "    return result"
   ]
  },
  {
   "cell_type": "code",
   "execution_count": 33,
   "metadata": {},
   "outputs": [],
   "source": [
    "def remove_num(texts):\n",
    "    output = re.sub(r'\\d+', '', texts )\n",
    "    return output"
   ]
  },
  {
   "cell_type": "code",
   "execution_count": 34,
   "metadata": {},
   "outputs": [],
   "source": [
    "def unify_whitespaces(text):\n",
    "    cleaned_string = re.sub(' +', ' ', text )\n",
    "    return cleaned_string"
   ]
  },
  {
   "cell_type": "code",
   "execution_count": 35,
   "metadata": {},
   "outputs": [],
   "source": [
    "def remove_punctuation(text):\n",
    "    result = \"\".join(u for u in text if u not in (\"?\", \".\", \";\", \":\",  \"!\",'\"',',') )\n",
    "    return result"
   ]
  },
  {
   "cell_type": "code",
   "execution_count": 40,
   "metadata": {},
   "outputs": [
    {
     "name": "stderr",
     "output_type": "stream",
     "text": [
      "[nltk_data] Downloading package stopwords to\n",
      "[nltk_data]     C:\\Users\\Aayush\\AppData\\Roaming\\nltk_data...\n",
      "[nltk_data]   Package stopwords is already up-to-date!\n"
     ]
    }
   ],
   "source": [
    "from nltk.corpus import stopwords\n",
    "from nltk import WordNetLemmatizer\n",
    "nltk.download('stopwords')\n",
    "from nltk.stem import PorterStemmer\n",
    "\n",
    "stop = set(stopwords.words('english'))\n",
    "#add unsubscribe to stop\n",
    "stop.add('unsubscribe')\n",
    "stemmer = PorterStemmer()\n",
    "lemma = WordNetLemmatizer()\n",
    "\n",
    "def remove_stopwords(text):\n",
    "    text = [word.lower() for word in text.split() if word.lower() not in stop ]\n",
    "    return ' '.join(text)"
   ]
  },
  {
   "cell_type": "code",
   "execution_count": 42,
   "metadata": {},
   "outputs": [],
   "source": [
    "def preprocess(line):\n",
    "    line=re.sub(r'http\\S+', '', line.strip())\n",
    "    line = re.sub(r'[!\"#$%&\\'()*+,-./:;?@[\\\\\\]^_{|}~`]', '', line)\n",
    "    line=deEmojify(line)\n",
    "    line=clean(line)\n",
    "    line=remove_num(line)\n",
    "    line=unify_whitespaces(line)\n",
    "    line=remove_punctuation(line)\n",
    "    line=remove_stopwords(line)\n",
    "    return line\n"
   ]
  },
  {
   "cell_type": "code",
   "execution_count": 43,
   "metadata": {},
   "outputs": [
    {
     "name": "stdout",
     "output_type": "stream",
     "text": [
      "780\n",
      "dear innovator congratulations delighted inform cohort idea successfully reserved place prototyping stage click see result achievement fills us great satisfaction wholeheartedly celebrate progress firmly believe innovative idea potential bring meaningful change society committed supporting journey next step exciting process curated series captivating opportunities designed ensure smooth productive start prototyping phase cordially invite orientation session provide comprehensive insights prototyping stage well overview forthcoming events mentoring programs resources intended guide towards structuring advancing initiative session details date september time pm pm platform webex confirm attendance orientation session kindly click button register registration link following orientation session keep informed additional activities aimed enhancing experience prototyping stage including oneonone mentorship access resources prototype development engaging events encourage bring questions ideas orientation session make interactive informative possible additionally invite join whatsapp group connect team fellow participants congratulations new journey together lets collaborate make cohort outstanding success best regards team thingqbator thingqbator safdarjung enclave new delhi new delhi preferences\n"
     ]
    }
   ],
   "source": [
    "file_path = './emails.csv'\n",
    "lines = []\n",
    "with open(file_path, 'r', encoding = 'utf-8') as file:\n",
    "    for line in file:\n",
    "        if line.strip()!='\"\"':\n",
    "            line = preprocess(line)\n",
    "            lines.append(line)\n",
    "lines=lines[1:]\n",
    "print(len(lines))\n",
    "print(lines[1])"
   ]
  },
  {
   "cell_type": "code",
   "execution_count": 44,
   "metadata": {},
   "outputs": [],
   "source": [
    "corpus_embeddings = embedder.encode(lines)"
   ]
  },
  {
   "cell_type": "code",
   "execution_count": 45,
   "metadata": {},
   "outputs": [
    {
     "data": {
      "text/plain": [
       "array([ 2.66916424e-01,  9.02335405e-01,  5.80179989e-01, -8.75559330e-01,\n",
       "        1.10951059e-01, -3.26939858e-02, -3.92728060e-01, -1.14493772e-01,\n",
       "        1.80045143e-01, -7.06154287e-01, -2.27512747e-01,  6.00761592e-01,\n",
       "        2.77830064e-01,  3.91607672e-01,  4.30928916e-01, -5.60366929e-01,\n",
       "        7.00924754e-01, -1.11849427e-01, -4.74754661e-01, -1.38677470e-03,\n",
       "        5.54225504e-01,  2.42525131e-01, -2.79286474e-01, -1.36284739e-01,\n",
       "        2.58695215e-01, -1.28557712e-01, -5.45142591e-03,  4.45697188e-01,\n",
       "        7.07761884e-01,  5.33519626e-01,  3.38084251e-01, -2.18392953e-01,\n",
       "       -1.51028946e-01, -5.36711775e-02,  3.19273062e-02,  6.05338395e-01,\n",
       "       -6.91891253e-01, -1.74998432e-01, -6.46431983e-01, -1.17689759e-01,\n",
       "       -1.24816768e-01, -2.24450231e-01,  8.42071354e-01, -1.33400828e-01,\n",
       "       -1.63862914e-01,  4.60637540e-01, -6.32844090e-01,  2.65991718e-01,\n",
       "       -7.38031566e-01,  3.89720082e-01, -2.80431807e-01, -1.04986835e+00,\n",
       "       -8.12514961e-01, -5.24784088e-01,  3.06330562e-01, -6.62942410e-01,\n",
       "       -1.17845941e+00,  8.71675670e-01,  1.03951275e+00, -6.14027858e-01,\n",
       "       -8.38177741e-01, -5.78219652e-01, -2.89464071e-02, -6.94024488e-02,\n",
       "        9.02798414e-01, -3.63742292e-01, -2.16813341e-01, -3.80372196e-01,\n",
       "        1.04367435e+00, -4.86198634e-01,  4.39390063e-01,  1.30173013e-01,\n",
       "        2.08574444e-01, -9.97429252e-01, -5.65943837e-01, -7.37989843e-01,\n",
       "        3.34932506e-01, -2.70732641e-01, -4.64995861e-01,  3.33467990e-01,\n",
       "       -8.15895438e-01, -8.09502304e-01,  7.49054253e-02, -8.88546482e-02,\n",
       "        5.15510142e-01,  8.04806471e-01,  1.18470764e+00,  2.19425246e-01,\n",
       "       -2.68065363e-01,  4.13613111e-01, -4.92803007e-02, -1.44700348e-01,\n",
       "        1.22997113e-01,  3.81678432e-01,  1.45631492e-01, -3.85011673e-01,\n",
       "       -6.69438004e-01, -7.73120373e-02,  2.28328004e-01,  5.83522856e-01,\n",
       "        4.27134670e-02,  1.18169725e+00, -1.70048967e-01, -6.24130726e-01,\n",
       "       -4.66491044e-01,  2.48644367e-01,  9.01065171e-01, -5.73179483e-01,\n",
       "       -2.65953124e-01, -3.28534007e-01,  9.35125276e-02, -5.16549833e-02,\n",
       "       -5.52337885e-01,  8.16874981e-01, -7.92058706e-01, -3.81168008e-01,\n",
       "       -6.64195716e-02,  4.25847083e-01, -8.05464447e-01, -2.39885356e-02,\n",
       "       -5.21331966e-01,  7.19809234e-01,  2.10377112e-01, -3.66103500e-02,\n",
       "       -3.99409682e-02, -1.18920445e-01, -8.17795873e-01, -2.43136853e-01,\n",
       "        7.86015332e-01, -1.04021560e-02, -4.55276400e-01,  6.66931570e-02,\n",
       "       -5.03192604e-01,  2.29047641e-01,  8.37937355e-01, -2.94268280e-01,\n",
       "       -5.62378764e-01,  6.90622687e-01, -3.03745009e-02,  2.66134620e-01,\n",
       "       -8.04911971e-01,  4.40262631e-03,  1.25825191e+00,  4.31891792e-02,\n",
       "       -1.24907158e-02,  3.11727732e-01, -5.68065703e-01,  2.75556028e-01,\n",
       "       -7.22470403e-01,  1.54997692e-01, -2.03213930e-01, -1.70829967e-01,\n",
       "       -5.27054906e-01, -1.59110397e-01, -4.44926918e-01,  5.75626232e-02,\n",
       "       -1.47508335e+00, -4.72343080e-02, -9.15931582e-01, -4.86118108e-01,\n",
       "       -1.31815481e+00, -2.71459848e-01,  5.30802310e-01,  4.38975185e-01,\n",
       "       -1.06591868e+00,  4.60271925e-01,  9.40703869e-01, -7.64968634e-01,\n",
       "       -1.05707392e-01, -4.31200206e-01, -5.02080768e-02,  1.03382540e+00,\n",
       "       -6.10748291e-01,  6.05498672e-01, -9.04064104e-02,  9.31198150e-03,\n",
       "       -6.02573335e-01, -5.13607919e-01, -6.96297526e-01,  2.83255670e-02,\n",
       "        6.59808695e-01, -6.92962706e-01, -9.74507511e-01, -4.55850989e-01,\n",
       "       -1.48900464e-01, -3.48255157e-01,  3.03105265e-02, -4.71071482e-01,\n",
       "       -7.07380235e-01,  2.96650141e-01,  4.43603247e-01, -3.19314897e-02,\n",
       "        1.53133810e-01, -1.73941329e-01,  7.36217052e-02, -1.33752644e-01,\n",
       "       -1.43407937e-02,  7.41808176e-01,  2.69024312e-01, -8.15687403e-02,\n",
       "       -7.95132220e-02,  6.54306054e-01, -4.70552325e-01,  3.48944336e-01,\n",
       "        3.31431240e-01, -8.67153406e-01,  1.16265237e-01,  5.21907926e-01,\n",
       "       -3.10656130e-01, -6.81115329e-01, -6.67874217e-01,  1.51845247e-01,\n",
       "       -1.30733863e-01,  1.06939964e-01, -3.36050957e-01,  8.51266682e-01,\n",
       "       -1.03180185e-01,  2.61528909e-01, -6.94106698e-01, -1.32504404e-02,\n",
       "       -1.41145781e-01,  2.20744446e-01,  1.21577716e+00,  2.34686751e-02,\n",
       "        5.78193784e-01, -7.29238510e-01, -1.34101301e-01,  5.21049015e-02,\n",
       "        3.98673527e-02, -3.94911230e-01,  1.45229906e-01,  2.04736084e-01,\n",
       "        3.69896293e-02,  2.72597447e-02,  2.04407424e-01, -4.83094752e-01,\n",
       "        6.11335576e-01, -3.93181264e-01,  5.41330695e-01, -1.05992615e+00,\n",
       "       -4.48898822e-01, -7.27499485e-01, -3.53553146e-02, -6.28763258e-01,\n",
       "        4.35782343e-01,  1.16874957e+00, -5.14308751e-01, -2.72569060e-01,\n",
       "        1.06677461e+00, -4.97177631e-01, -1.18940389e+00, -2.99837172e-01,\n",
       "        4.11237478e-01, -2.94748247e-01,  5.15521877e-02, -8.41550589e-01,\n",
       "        6.29066303e-02, -1.31248212e+00, -6.69803500e-01,  6.64433658e-01,\n",
       "        6.78816974e-01,  3.83013301e-03,  2.31318444e-01, -4.24178660e-01,\n",
       "       -9.57956985e-02, -1.85460132e-02, -1.82011932e-01, -4.68915254e-01,\n",
       "        3.54556620e-01, -2.25936204e-01, -5.60670495e-01, -5.73240034e-02,\n",
       "        1.52761936e-01, -1.68841910e-02,  6.45303309e-01,  1.67208537e-01,\n",
       "       -7.68533707e-01, -4.15191144e-01,  7.67041564e-01, -4.30402696e-01,\n",
       "       -1.18435001e+00, -1.32038772e-01, -5.80354631e-01,  3.54863763e-01,\n",
       "        3.88882458e-02, -4.54371035e-01, -8.74928981e-02, -5.72872698e-01,\n",
       "       -5.07944405e-01, -2.92980313e-01, -1.86027065e-01, -2.51306713e-01,\n",
       "        5.08214012e-02,  3.89197141e-01,  7.87399054e-01, -3.95738751e-01,\n",
       "        8.13163519e-01, -2.08398521e-01, -1.07496893e+00,  1.55090794e-01,\n",
       "       -7.19063044e-01,  7.73643255e-01,  3.14732283e-01,  6.24981485e-02,\n",
       "        7.86004961e-01, -5.65975383e-02,  2.71487415e-01, -4.09123272e-01,\n",
       "       -1.02246034e+00, -1.46161318e-01,  5.20480633e-01, -1.18918382e-02,\n",
       "       -5.57350039e-01,  3.65748078e-01,  3.97120208e-01, -9.38171148e-02,\n",
       "        1.01090646e+00, -4.73388493e-01, -8.87255818e-02, -5.24562001e-01,\n",
       "        3.29614282e-01,  5.14342524e-02,  1.75995022e-01,  2.33631730e-02,\n",
       "       -6.15685284e-01,  1.28285646e-01,  4.58722591e-01,  1.42053440e-01,\n",
       "       -7.95300245e-01, -1.04778104e-01, -3.47706117e-02, -2.01901510e-01,\n",
       "        2.10312724e-01, -1.09700286e+00, -3.13453913e-01, -5.76738305e-02,\n",
       "        1.89195126e-01,  2.65192509e-01,  8.59453261e-01,  3.80171716e-01,\n",
       "        6.60658106e-02, -1.81057397e-02,  5.32651842e-01,  3.44509304e-01,\n",
       "        6.67860061e-02, -6.46649480e-01, -8.31738532e-01, -6.11916065e-01,\n",
       "       -6.51901007e-01, -3.44472706e-01, -2.43637338e-01, -5.13761759e-01,\n",
       "       -1.27846733e-01,  1.29744448e-02,  6.66714385e-02, -3.27293217e-01,\n",
       "        4.81248260e-01,  1.93599779e-02, -2.42565930e-01, -2.09531963e-01,\n",
       "       -1.27071127e-01,  3.92915905e-01,  2.12883994e-01, -1.58262417e-01,\n",
       "        1.57789767e+00, -7.69805312e-02, -1.08124030e+00,  6.51566982e-02,\n",
       "       -2.23140214e-02,  2.97752142e-01, -2.03303710e-01,  3.53065655e-02,\n",
       "        4.13168788e-01,  6.46916211e-01, -4.54849362e-01,  4.90521133e-01,\n",
       "       -4.66817200e-01,  2.35948831e-01,  4.20590967e-01,  1.10040709e-01,\n",
       "       -3.85855198e-01, -1.03003681e-01,  5.05487144e-01,  5.03157318e-01,\n",
       "       -1.25908285e-01, -9.65505838e-01, -5.11646092e-01, -3.00915912e-03,\n",
       "        7.70507872e-01, -7.60889590e-01, -4.26869616e-02,  3.40364844e-01,\n",
       "        5.38506269e-01,  6.23099804e-01,  2.87827134e-01, -7.16425359e-01,\n",
       "       -2.63085574e-01,  6.86596513e-01, -1.65989593e-01, -6.74793050e-02,\n",
       "       -4.69295591e-01,  7.76460707e-01,  6.96726739e-02,  7.56301284e-01,\n",
       "       -1.27550662e-02,  3.93332958e-01, -5.33778965e-01, -7.28679180e-01,\n",
       "        1.17755890e+00,  4.58379567e-01, -2.32476275e-02,  6.08803928e-01,\n",
       "       -7.21130222e-02,  2.94606481e-02, -1.15205787e-01,  6.63239583e-02,\n",
       "        6.70583993e-02, -8.37163687e-01, -4.86573100e-01,  1.05202556e+00,\n",
       "       -7.54394591e-01,  2.57192254e-01,  4.11277115e-01,  4.27705318e-01,\n",
       "       -3.29767048e-01,  1.89117387e-01,  3.21367979e-01,  2.50787526e-01,\n",
       "       -4.47458953e-01,  2.79416200e-02,  7.90587127e-01,  1.14935648e+00,\n",
       "        5.25822379e-02, -2.86004484e-01,  5.49833417e-01,  3.32365245e-01,\n",
       "       -2.00755507e-01,  6.03868842e-01,  1.95924118e-02,  1.14831708e-01,\n",
       "       -1.55448392e-01,  8.37239772e-02, -3.92999709e-01,  7.79015064e-01,\n",
       "       -6.83623135e-01,  2.32908875e-02, -2.05085516e-01, -1.88530982e-03,\n",
       "        1.45019919e-01,  4.22874779e-01,  4.42156672e-01, -2.99837500e-01,\n",
       "        9.71956670e-01,  5.58573902e-01, -4.67456877e-01, -1.02729164e-01,\n",
       "       -5.09663641e-01, -5.24827063e-01, -1.00229338e-01,  2.72420466e-01,\n",
       "       -5.06850064e-01, -7.91739941e-01,  6.91860169e-02, -2.06999764e-01,\n",
       "        1.36990950e-01, -3.54304612e-01,  7.39623129e-01,  7.21643209e-01,\n",
       "       -4.12250087e-02,  1.01783678e-01,  3.51773679e-01,  4.40866381e-01,\n",
       "        2.38703057e-01, -4.63182449e-01, -1.37123740e+00, -3.83673668e-01,\n",
       "        3.54019493e-01, -3.59180927e-01,  3.36510688e-01, -2.79213190e-01,\n",
       "       -3.55155855e-01, -7.66802967e-01, -7.89698213e-03, -1.10612780e-01,\n",
       "        6.50265336e-01, -3.27488363e-01, -7.14050710e-01, -2.55174115e-02,\n",
       "       -5.09781480e-01, -7.25861788e-01, -2.62551486e-01,  7.95225441e-01,\n",
       "        1.57525241e-01, -1.29307121e-01, -6.91404283e-01,  1.17380157e-01,\n",
       "        1.20937966e-01,  6.38121486e-01, -3.27578783e-01,  1.68975703e-02,\n",
       "       -1.30112350e-01, -3.92416209e-01, -5.66046059e-01, -2.64609247e-01,\n",
       "       -1.53766468e-01,  5.95571280e-01,  9.97648761e-02, -9.05254185e-01,\n",
       "       -3.12273521e-02,  5.48058808e-01,  5.75892925e-01, -2.03730673e-01,\n",
       "        3.21788728e-01,  4.95131090e-02, -2.88229465e-01, -5.80030441e-01,\n",
       "       -3.97690803e-01,  5.54261386e-01,  9.54537749e-01,  5.88452995e-01,\n",
       "       -1.77777633e-01,  2.17685059e-01,  3.42861205e-01,  5.15148997e-01,\n",
       "        7.21284896e-02,  2.94207990e-01, -7.14216292e-01,  2.16730267e-01,\n",
       "        3.80016744e-01, -1.67411953e-01,  2.73033082e-01, -1.06598055e+00,\n",
       "       -3.84498805e-01, -9.49436784e-01,  3.79321009e-01,  1.86603397e-01,\n",
       "        7.68201828e-01, -7.58954212e-02,  9.13630486e-01,  1.50446981e-01,\n",
       "       -2.95444066e-03,  1.70841292e-01, -1.37572438e-01, -2.39648104e-01,\n",
       "        9.26329195e-02,  1.15417078e-01,  5.80880880e-01,  8.05318952e-02,\n",
       "       -4.99935180e-01, -5.29812276e-01,  3.62349212e-01,  2.16499984e-01,\n",
       "       -6.07697427e-01, -4.33017731e-01, -1.08862019e+00,  7.50097573e-01,\n",
       "       -3.21511567e-01, -1.58171177e-01, -9.20115486e-02,  3.61888319e-01,\n",
       "       -5.41478872e-01, -5.29963493e-01,  2.06965595e-01,  3.39486450e-01,\n",
       "        4.75159794e-01, -1.00477248e-01, -4.05014336e-01, -7.52923638e-02,\n",
       "       -1.72786415e-01,  3.88463795e-01, -7.09206998e-01,  5.51612377e-01,\n",
       "        8.23336661e-01, -2.46089071e-01, -1.78234547e-01, -2.63618618e-01,\n",
       "       -7.91542232e-01, -7.26466179e-01, -4.47480381e-01,  5.93460917e-01,\n",
       "       -2.08469316e-01, -2.49159962e-01,  1.43798769e-01,  7.34873593e-01,\n",
       "        5.02234876e-01, -3.11052874e-02,  2.64752388e-01, -2.14634478e-01,\n",
       "        5.26216686e-01, -1.91343576e-01, -9.24271047e-02,  5.99109411e-01,\n",
       "       -4.96353596e-01, -1.96813434e-01,  7.52550244e-01, -1.22200716e+00,\n",
       "        1.29390550e+00,  9.72874463e-01, -2.20741071e-02, -4.02985573e-01,\n",
       "       -4.08294737e-01, -1.09726004e-01,  4.24444586e-01, -2.23887078e-02,\n",
       "        5.57738245e-01, -4.19078857e-01,  2.06859469e-01,  5.19343436e-01,\n",
       "        1.94471925e-01,  2.58559257e-01,  1.15763545e-01, -2.76634574e-01,\n",
       "        6.39160071e-03,  6.97603583e-01, -2.80382354e-02,  1.30130500e-01,\n",
       "       -1.57827675e+00, -8.75424922e-01, -1.83900679e-03,  2.21212029e-01,\n",
       "       -5.36942899e-01,  5.26933074e-01,  1.17169835e-01,  2.34430641e-01,\n",
       "        6.44124746e-01, -1.08997643e-01, -7.04604387e-01, -2.69406855e-01,\n",
       "        2.81051099e-01, -8.62423301e-01, -4.24242198e-01, -6.44041479e-01,\n",
       "       -2.48213820e-02, -6.15101337e-01, -2.18996406e-01, -4.03924465e-01,\n",
       "        1.41419947e-01,  4.57031757e-01,  7.68115669e-02, -4.13298547e-01,\n",
       "        1.31957099e-01, -1.26567709e+00,  1.20738018e+00, -5.05228750e-02,\n",
       "        7.80772924e-01,  5.19121528e-01, -2.99484313e-01,  2.65284806e-01,\n",
       "       -1.64861232e-01,  2.26979584e-01, -2.75960602e-02,  1.89178556e-01,\n",
       "        9.50559735e-01,  3.05927932e-01, -5.73517442e-01,  1.19254959e+00,\n",
       "        1.16291833e+00,  6.72890618e-02, -2.28705645e-01, -3.19437981e-01,\n",
       "       -4.00981277e-01, -5.83813131e-01, -5.15416324e-01, -7.18332604e-02,\n",
       "       -3.40117842e-01,  5.54332733e-01,  2.63585806e-01, -3.12566638e-01,\n",
       "        3.25457543e-01,  4.59338129e-01, -7.53804445e-01,  1.04893374e+00,\n",
       "       -4.73327637e-01, -4.17026699e-01,  6.15665689e-02,  2.10179478e-01,\n",
       "        3.65856439e-01, -4.26067322e-01, -1.20714977e-01, -1.04321495e-01,\n",
       "       -4.61562335e-01, -3.15156132e-01, -6.20089173e-02, -2.99623847e-01,\n",
       "       -1.07827216e-01, -8.34124982e-01,  1.29526211e-02, -7.39206433e-01,\n",
       "        8.01511407e-01, -6.04369044e-01, -3.69034745e-02,  1.02211591e-02,\n",
       "        4.94284064e-01, -1.64451882e-01, -4.84152019e-01,  2.95828819e-01,\n",
       "       -2.06139367e-02,  5.92649937e-01, -5.31002767e-02,  6.09209538e-01,\n",
       "       -9.84965786e-02, -7.34470665e-01,  5.23843244e-03,  7.97167957e-01,\n",
       "        7.49041140e-02,  4.83710803e-02,  8.03663373e-01,  4.70222756e-02,\n",
       "       -9.92050648e-01,  5.13094306e-01,  5.94965935e-01, -1.60260916e+00,\n",
       "        2.64450729e-01, -6.05700433e-01,  9.23666507e-02,  1.73049152e-01,\n",
       "        3.40440512e-01, -5.96058965e-01,  9.49269474e-01,  7.60498047e-02,\n",
       "        2.11341307e-03, -1.19077615e-01, -1.10086724e-02,  1.33394802e+00,\n",
       "       -2.72043794e-02, -2.75318641e-02,  4.35747594e-01,  2.83769965e-01,\n",
       "        1.33337945e-01, -2.75508016e-01, -3.49522382e-01, -5.38771749e-01,\n",
       "        8.93932283e-01,  1.30257285e+00,  5.53505778e-01, -2.02165410e-01,\n",
       "       -2.90154725e-01, -5.96500993e-01,  8.82322073e-01,  6.23481393e-01,\n",
       "       -5.27844369e-01,  1.00811020e-01,  1.28854275e-01, -1.17626441e+00,\n",
       "       -5.73902130e-01,  8.20728004e-01,  2.92768776e-02,  7.38548756e-01,\n",
       "       -2.53179282e-01,  8.45718086e-01,  2.19832465e-01,  1.55704468e-01,\n",
       "        8.57078508e-02, -4.60909396e-01,  4.04035121e-01,  1.71311930e-01,\n",
       "       -2.36896519e-02, -3.29836994e-01, -8.92843246e-01, -6.01765573e-01,\n",
       "        6.77565157e-01,  1.17375565e+00,  7.49938339e-02,  3.24357033e-01,\n",
       "       -1.24077938e-01,  2.50343382e-01, -1.01845026e-01, -6.37146771e-01],\n",
       "      dtype=float32)"
      ]
     },
     "execution_count": 45,
     "metadata": {},
     "output_type": "execute_result"
    }
   ],
   "source": [
    "corpus_embeddings[1]"
   ]
  },
  {
   "cell_type": "code",
   "execution_count": 46,
   "metadata": {},
   "outputs": [
    {
     "name": "stderr",
     "output_type": "stream",
     "text": [
      "C:\\Users\\Aayush\\AppData\\Roaming\\Python\\Python310\\site-packages\\sklearn\\cluster\\_kmeans.py:1412: FutureWarning: The default value of `n_init` will change from 10 to 'auto' in 1.4. Set the value of `n_init` explicitly to suppress the warning\n",
      "  super()._check_params_vs_input(X, default_n_init=10)\n"
     ]
    }
   ],
   "source": [
    "# Then, we perform k-means clustering using sklearn:\n",
    "from sklearn.cluster import KMeans\n",
    "\n",
    "num_clusters = 5\n",
    "clustering_model = KMeans(n_clusters=num_clusters)\n",
    "clustering_model.fit(corpus_embeddings)\n",
    "cluster_assignment = clustering_model.labels_"
   ]
  },
  {
   "cell_type": "code",
   "execution_count": 67,
   "metadata": {},
   "outputs": [
    {
     "data": {
      "text/plain": [
       "3"
      ]
     },
     "execution_count": 67,
     "metadata": {},
     "output_type": "execute_result"
    }
   ],
   "source": [
    "comment = 'Invest in your stocks today'\n",
    "preprocessed = preprocess(comment)\n",
    "test=embedder.encode([preprocessed])\n",
    "clustering_model.predict(test)[0]"
   ]
  },
  {
   "cell_type": "code",
   "execution_count": 68,
   "metadata": {},
   "outputs": [
    {
     "data": {
      "text/plain": [
       "array([0, 0, 4, 1, 4, 4, 0, 0, 1, 0, 0, 0, 1, 3, 1, 3, 3, 0, 4, 2, 0, 0,\n",
       "       4, 3, 1, 4, 3, 0, 1, 4, 1, 2, 3, 0, 4, 4, 1, 0, 3, 1, 4, 4, 1, 0,\n",
       "       0, 0, 1, 1, 0, 2, 0, 4, 1, 4, 1, 4, 3, 4, 2, 4, 4, 0, 1, 4, 4, 1,\n",
       "       0, 0, 4, 0, 1, 0, 1, 4, 3, 3, 0, 4, 0, 4, 1, 1, 4, 1, 3, 1, 0, 1,\n",
       "       1, 4, 1, 4, 0, 0, 0, 1, 0, 2, 1, 1, 0, 4, 1, 3, 0, 0, 0, 1, 4, 1,\n",
       "       4, 4, 0, 0, 1, 0, 1, 4, 1, 2, 1, 2, 2, 2, 1, 3, 4, 0, 0, 3, 4, 2,\n",
       "       1, 3, 1, 0, 4, 1, 1, 4, 4, 0, 0, 1, 4, 0, 1, 2, 3, 1, 0, 1, 2, 1,\n",
       "       1, 1, 3, 1, 0, 0, 4, 4, 4, 0, 4, 0, 4, 1, 0, 0, 1, 4, 3, 1, 4, 0,\n",
       "       4, 4, 1, 4, 2, 0, 2, 4, 1, 1, 0, 0, 0, 1, 0, 4, 4, 0, 0, 1, 1, 3,\n",
       "       4, 1, 0, 4, 4, 2, 0, 2, 2, 1, 1, 1, 4, 3, 0, 1, 1, 1, 4, 0, 1, 1,\n",
       "       1, 0, 3, 0, 0, 4, 4, 1, 1, 4, 0, 0, 3, 1, 2, 0, 0, 0, 1, 0, 4, 1,\n",
       "       1, 1, 3, 0, 0, 0, 4, 4, 1, 2, 0, 0, 1, 1, 1, 4, 4, 0, 1, 0, 1, 1,\n",
       "       0, 3, 1, 2, 2, 1, 1, 3, 1, 4, 0, 3, 1, 3, 3, 2, 1, 3, 4, 0, 4, 4,\n",
       "       1, 0, 1, 4, 1, 4, 0, 4, 1, 1, 4, 1, 0, 3, 4, 4, 4, 1, 1, 0, 1, 1,\n",
       "       4, 0, 4, 1, 2, 3, 1, 1, 3, 0, 4, 4, 4, 1, 0, 2, 1, 4, 1, 4, 1, 3,\n",
       "       1, 0, 1, 4, 0, 3, 1, 3, 4, 0, 0, 4, 1, 0, 3, 0, 4, 3, 3, 1, 4, 0,\n",
       "       3, 4, 0, 1, 1, 0, 3, 4, 0, 1, 4, 1, 2, 1, 0, 0, 1, 4, 1, 1, 2, 4,\n",
       "       0, 1, 0, 0, 0, 0, 1, 1, 1, 4, 2, 3, 1, 4, 0, 4, 1, 0, 0, 3, 1, 1,\n",
       "       0, 2, 2, 1, 4, 1, 0, 0, 2, 4, 1, 1, 0, 1, 4, 4, 4, 0, 0, 4, 4, 1,\n",
       "       4, 1, 4, 3, 0, 1, 1, 2, 1, 3, 3, 0, 3, 3, 0, 3, 4, 3, 3, 0, 1, 4,\n",
       "       4, 1, 0, 0, 4, 1, 0, 1, 1, 0, 4, 1, 1, 1, 4, 2, 1, 1, 4, 0, 3, 0,\n",
       "       0, 1, 0, 3, 2, 4, 2, 3, 0, 1, 3, 1, 3, 1, 1, 3, 0, 4, 4, 0, 2, 2,\n",
       "       0, 1, 0, 1, 0, 0, 0, 4, 0, 1, 3, 4, 4, 1, 0, 1, 0, 3, 0, 1, 1, 0,\n",
       "       4, 0, 1, 0, 1, 4, 1, 1, 1, 0, 4, 0, 1, 1, 4, 4, 1, 0, 4, 1, 1, 0,\n",
       "       1, 4, 1, 2, 0, 4, 3, 1, 3, 1, 3, 0, 1, 4, 4, 4, 4, 4, 0, 4, 3, 0,\n",
       "       1, 4, 4, 4, 4, 1, 0, 0, 0, 4, 2, 1, 1, 0, 1, 4, 1, 2, 0, 4, 3, 1,\n",
       "       1, 1, 3, 4, 3, 1, 2, 1, 2, 3, 0, 3, 0, 1, 0, 0, 1, 3, 4, 1, 0, 4,\n",
       "       4, 4, 0, 4, 1, 3, 4, 1, 0, 3, 4, 0, 4, 4, 1, 3, 1, 0, 1, 2, 4, 0,\n",
       "       0, 1, 4, 4, 4, 0, 2, 1, 2, 0, 3, 0, 0, 4, 4, 1, 1, 3, 0, 0, 1, 3,\n",
       "       1, 3, 3, 3, 3, 3, 0, 4, 2, 4, 0, 2, 4, 0, 1, 2, 1, 1, 3, 0, 3, 0,\n",
       "       3, 4, 0, 0, 0, 1, 0, 1, 1, 3, 0, 4, 3, 2, 1, 4, 1, 4, 0, 4, 3, 0,\n",
       "       4, 3, 1, 3, 3, 4, 1, 1, 3, 3, 0, 1, 4, 4, 1, 0, 3, 1, 2, 1, 4, 4,\n",
       "       4, 1, 3, 0, 4, 3, 3, 3, 1, 3, 0, 4, 4, 4, 0, 3, 1, 1, 0, 0, 0, 4,\n",
       "       4, 3, 4, 1, 0, 0, 3, 3, 1, 1, 3, 2, 1, 1, 3, 0, 0, 1, 1, 3, 0, 4,\n",
       "       0, 1, 0, 1, 0, 4, 3, 2, 0, 0, 1, 3, 3, 0, 0, 0, 1, 0, 3, 1, 0, 3,\n",
       "       4, 3, 4, 2, 1, 1, 3, 0, 1, 3])"
      ]
     },
     "execution_count": 68,
     "metadata": {},
     "output_type": "execute_result"
    }
   ],
   "source": [
    "cluster_assignment"
   ]
  },
  {
   "cell_type": "code",
   "execution_count": 69,
   "metadata": {},
   "outputs": [],
   "source": [
    "clustered_sentences = [[] for i in range(num_clusters)]\n",
    "for sentence_id, cluster_id in enumerate(cluster_assignment):\n",
    "    clustered_sentences[cluster_id].append(lines[sentence_id])\n",
    "\n"
   ]
  },
  {
   "cell_type": "code",
   "execution_count": 70,
   "metadata": {},
   "outputs": [
    {
     "name": "stdout",
     "output_type": "stream",
     "text": [
      "hello innovator told could work dream company straight college yes heard right participate accenture innovation challenge win big may also get opportunity fasttrack recruitment process journey accenture application link roles offered associate software engineer system application services associate rewards ❖ prizes worth inr per team member❖ fasttrack interview opportunity eligibility undergraduate postgraduate students participate soughtafter challenge let ideas make waves note fasttrack recruitment process offered eligible per recruitment process criteria participants would submit innovative ideas eligible participants receive communications recruitment process accenture best regardsteam unstop\n"
     ]
    }
   ],
   "source": [
    "print(clustered_sentences[0][0])"
   ]
  },
  {
   "cell_type": "code",
   "execution_count": 80,
   "metadata": {},
   "outputs": [
    {
     "name": "stdout",
     "output_type": "stream",
     "text": [
      "Cluster 1 - Labels: stipend, students, read, internship, inr\n",
      "Cluster 2 - Labels: new, answer, min, question, read\n",
      "Cluster 3 - Labels: web, link, take, click, message\n",
      "Cluster 4 - Labels: exchange, और, आपक, broker, कर\n",
      "Cluster 5 - Labels: email, pes, university, linkedin, pesu\n"
     ]
    }
   ],
   "source": [
    "from sklearn.feature_extraction.text import TfidfVectorizer\n",
    "\n",
    "# Convert the clustered sentences into separate documents for TF-IDF analysis\n",
    "clustered_documents = [' '.join(cluster) for cluster in clustered_sentences]\n",
    "\n",
    "# Create a TF-IDF vectorizer\n",
    "tfidf_vectorizer = TfidfVectorizer()\n",
    "\n",
    "# Fit and transform the clustered documents\n",
    "tfidf_matrix = tfidf_vectorizer.fit_transform(clustered_documents)\n",
    "\n",
    "# Get the feature names (words) from the TF-IDF vectorizer\n",
    "feature_names = tfidf_vectorizer.get_feature_names_out()\n",
    "\n",
    "# For each cluster, find the top N keywords\n",
    "num_keywords = 5  # You can adjust this value as needed\n",
    "cluster_labels = []\n",
    "\n",
    "for i, cluster_indices in enumerate(tfidf_matrix):\n",
    "    # Get the indices of the top N keywords\n",
    "    feature_index = cluster_indices.toarray().argsort()[0, -num_keywords:]\n",
    "    cluster_keywords = [feature_names[idx] for idx in feature_index]\n",
    "    cluster_labels.append(cluster_keywords)\n",
    "\n",
    "# Print the cluster labels\n",
    "for i, labels in enumerate(cluster_labels):\n",
    "    print(f\"Cluster {i + 1} - Labels: {', '.join(labels)}\")\n"
   ]
  },
  {
   "cell_type": "code",
   "execution_count": 78,
   "metadata": {},
   "outputs": [
    {
     "name": "stdout",
     "output_type": "stream",
     "text": [
      "['stipend', 'students', 'read', 'internship', 'inr']\n",
      "['new', 'answer', 'min', 'question', 'read']\n",
      "['web', 'link', 'take', 'click', 'message']\n",
      "['exchange', 'और', 'आपक', 'broker', 'कर']\n",
      "['email', 'pes', 'university', 'linkedin', 'pesu']\n"
     ]
    }
   ],
   "source": [
    "for i in cluster_labels:\n",
    "    print(i)"
   ]
  }
 ],
 "metadata": {
  "kernelspec": {
   "display_name": "MailMagnet",
   "language": "python",
   "name": "python3"
  },
  "language_info": {
   "codemirror_mode": {
    "name": "ipython",
    "version": 3
   },
   "file_extension": ".py",
   "mimetype": "text/x-python",
   "name": "python",
   "nbconvert_exporter": "python",
   "pygments_lexer": "ipython3",
   "version": "3.10.13"
  }
 },
 "nbformat": 4,
 "nbformat_minor": 2
}
